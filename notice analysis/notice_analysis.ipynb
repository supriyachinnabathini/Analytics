{
 "cells": [
  {
   "cell_type": "code",
   "execution_count": 1,
   "id": "15a068be",
   "metadata": {},
   "outputs": [],
   "source": [
    "import docx"
   ]
  },
  {
   "cell_type": "code",
   "execution_count": 2,
   "id": "86b15dab",
   "metadata": {},
   "outputs": [
    {
     "data": {
      "application/javascript": [
       "\n",
       "        if (window._pyforest_update_imports_cell) { window._pyforest_update_imports_cell('import os'); }\n",
       "    "
      ],
      "text/plain": [
       "<IPython.core.display.Javascript object>"
      ]
     },
     "metadata": {},
     "output_type": "display_data"
    }
   ],
   "source": [
    "docs = []\n",
    "\n",
    "for root , directory , file in os.walk('sir docs/'):\n",
    "    for i in file:\n",
    "        docs.append('sir docs/'+i)\n"
   ]
  },
  {
   "cell_type": "code",
   "execution_count": 3,
   "id": "1f156994",
   "metadata": {},
   "outputs": [
    {
     "name": "stdout",
     "output_type": "stream",
     "text": [
      "['sir docs/201610.docx', 'sir docs/201612.docx', 'sir docs/201702.docx', 'sir docs/201704.docx', 'sir docs/201706.docx', 'sir docs/201710.docx', 'sir docs/201712.docx', 'sir docs/201802.docx', 'sir docs/201804.docx', 'sir docs/201806.docx', 'sir docs/201808.docx', 'sir docs/201810.docx', 'sir docs/201812.docx', 'sir docs/201902.docx', 'sir docs/201904.docx', 'sir docs/201906.docx', 'sir docs/201908.docx', 'sir docs/201910.docx', 'sir docs/201912.docx', 'sir docs/202002.docx', 'sir docs/202004.docx', 'sir docs/202005.docx', 'sir docs/202008.docx', 'sir docs/202010.docx', 'sir docs/202012.docx', 'sir docs/202102.docx', 'sir docs/202104.docx', 'sir docs/202106.docx', 'sir docs/202108.docx', 'sir docs/202110.docx', 'sir docs/202112.docx', 'sir docs/202202.docx', 'sir docs/202204.docx', 'sir docs/202205.docx', 'sir docs/202206.docx', 'sir docs/202208.docx', 'sir docs/202210.docx', 'sir docs/202212.docx', 'sir docs/202302.docx', 'sir docs/202304.docx', 'sir docs/202306.docx', 'sir docs/202308.docx', 'sir docs/202310.docx', 'sir docs/202312.docx', 'sir docs/202402.docx', 'sir docs/202404.docx']\n"
     ]
    }
   ],
   "source": [
    "print(docs)"
   ]
  },
  {
   "cell_type": "code",
   "execution_count": 4,
   "id": "43d57674",
   "metadata": {},
   "outputs": [
    {
     "data": {
      "text/plain": [
       "46"
      ]
     },
     "execution_count": 4,
     "metadata": {},
     "output_type": "execute_result"
    }
   ],
   "source": [
    "len(docs)"
   ]
  },
  {
   "cell_type": "markdown",
   "id": "5b280beb",
   "metadata": {},
   "source": [
    "<h1 style=\"font-family:tahoma; color:darkblue; font-size: 35px;\" >  • <u> CREATING</u>  <u>IDENTITY</u> <u>FOR</u> <u>EACH</u> <u>DOCUMENT</u> </h1>"
   ]
  },
  {
   "cell_type": "code",
   "execution_count": 5,
   "id": "dcc069cd",
   "metadata": {},
   "outputs": [],
   "source": [
    "for i in range(1, 47):\n",
    "    exec(f'doc{i} = docs[i-1]')"
   ]
  },
  {
   "cell_type": "code",
   "execution_count": 6,
   "id": "a25dabf6",
   "metadata": {},
   "outputs": [
    {
     "data": {
      "text/plain": [
       "'sir docs/201610.docx'"
      ]
     },
     "execution_count": 6,
     "metadata": {},
     "output_type": "execute_result"
    }
   ],
   "source": [
    "doc1"
   ]
  },
  {
   "cell_type": "code",
   "execution_count": 7,
   "id": "091b30a2",
   "metadata": {},
   "outputs": [
    {
     "data": {
      "text/plain": [
       "'sir docs/202404.docx'"
      ]
     },
     "execution_count": 7,
     "metadata": {},
     "output_type": "execute_result"
    }
   ],
   "source": [
    "doc46"
   ]
  },
  {
   "cell_type": "markdown",
   "id": "a00c6afc",
   "metadata": {},
   "source": [
    "<h1 style=\"font-family:tahoma; color:brown; font-size:20px;\" > CREATING INDIVIDUAL TEXTS & NLPS FOR EACH DOCUMENT </h1>"
   ]
  },
  {
   "cell_type": "code",
   "execution_count": 8,
   "id": "aed9f329",
   "metadata": {},
   "outputs": [
    {
     "data": {
      "application/javascript": [
       "\n",
       "        if (window._pyforest_update_imports_cell) { window._pyforest_update_imports_cell('import spacy\\nimport os'); }\n",
       "    "
      ],
      "text/plain": [
       "<IPython.core.display.Javascript object>"
      ]
     },
     "metadata": {},
     "output_type": "display_data"
    }
   ],
   "source": [
    "nlp = spacy.load('en_core_web_lg')\n",
    "\n",
    "ind_texts = []\n",
    "full_text = \"\"\n",
    "ind_nlps = []\n",
    "\n",
    "\n",
    "for i in range(len(docs)):\n",
    "    \n",
    "    text = ''\n",
    "    words = []\n",
    "    \n",
    "    for paragraph in docx.Document(f'{docs[i]}').paragraphs:\n",
    "        text = \" \".join([text,paragraph.text])\n",
    "\n",
    "    for table in docx.Document(f'{docs[i]}').tables:\n",
    "        for row in table.rows:\n",
    "            text = ' '.join([text , ' '.join([cell.text for cell in row.cells])])\n",
    "    \n",
    "    \n",
    "    text = text.replace(\"per cent\",'percent')\n",
    "    full_text = ' '.join([full_text , text])\n",
    "  \n",
    "\n",
    "    ind_texts.append(text)\n",
    "    ind_nlps.append(nlp(text))\n",
    "    "
   ]
  },
  {
   "cell_type": "code",
   "execution_count": 9,
   "id": "5e27adf5",
   "metadata": {
    "scrolled": true
   },
   "outputs": [
    {
     "data": {
      "text/plain": [
       "'          संचार�वभाग, क�द्र�य कायार्लय,एस.बी.एस.मागर्,ंबईु-400001 _____________________________________________________________________________________________________________________ DEPARTMENT OF COMMUNICATION, Central Office, S.B.S.Marg, Mumbai-400001 फोन/Phone: 91 22 2266 0502 फै क्स/Fax: 91 22 22660358  प्रेसप्रकाशनी PRESS RELEASE      भारतीय �रज़वर्बक�  RESERVE BANK OF INDIA 0वेबसाइट:\\twww.rbi.org.in/hindi Website : www.rbi.org.in इ-मेलemail: helpdoc@rbi.org.in    October 18, 2016  Minutes of the Monetary Policy Committee Meeting October 3-4, 2016 [Under Section 45ZL of the RBI Act, 1934]  The first meeting of the Monetary Policy Committee (MPC), constituted under section 45ZB of the amended Reserve Bank of India Act, 1934, was held on October 3 and 4, 2016 at the Reserve Bank of India, Mumbai.  The meeting was attended by all the members - Dr. Chetan Ghate, Professor, Indian Statistical Institute; Dr. Pami Dua, Director, Delhi School of Economics; and Dr. Ravindra H. Dholakia, Professor, Indian Institute of Management, Ahmedabad; Dr. Michael Debabrata Patra, Executive Director (the officer of the Bank nominated by the Central Board under Section 45ZB(2)(c) of the amended Act); Shri R. Gandhi, Deputy Governor in charge of monetary policy - and was chaired by Dr. Urjit R. Patel, Governor.  According to Section 45ZL of the amended Reserve Bank of India Act, 1934, the Reserve Bank shall publish, on the fourteenth day after every meeting of the Monetary Policy Committee, the minutes of the proceedings of the meeting which shall include the following, namely:— (a) the resolution adopted at the meeting of the Monetary Policy Committee; (b) the vote of each member of the Monetary Policy Committee, ascribed to such member, on resolutions adopted in the said meeting; and (c) the statement of each member of the Monetary Policy Committee under sub-section (11) of section 45ZI on the resolution adopted in the said meeting.  The MPC reviewed the surveys conducted by the Reserve Bank to gauge consumer confidence, households’ inflation expectations, corporate sector performance, credit conditions, the outlook for the industrial, services and infrastructure sectors, feedback from industry associations and the projections of professional forecasters. The Committee reviewed in detail staff’s macroeconomic projections, alternative scenarios around various risks to the outlook and staff’s quarterly projection model. Drawing on the above and after extensive discussions on the stance of monetary policy, the MPC adopted the resolution that is set out below.  Resolution  On the basis of an assessment of the current and evolving macroeconomic situation at its meeting today, the Monetary Policy Committee (MPC) decided to:  reduce the policy repo rate under the liquidity adjustment facility (LAF) by 25 basis points from 6.5 percent to 6.25 percent with immediate effect.  2  Consequently, the reverse repo rate under the LAF stands adjusted to 5.75 percent, and the marginal standing facility (MSF) rate and the Bank Rate to 6.75 percent.  The decision of the MPC is consistent with an accommodative stance of monetary policy in consonance with the objective of achieving consumer price index (CPI) inflation at 5 percent by Q4 of 2016-17 and the medium-term target of 4 percent within a band of +/- 2 percent, while supporting growth. The main considerations underlying the decision are set out in the statement below.  Assessment  Global growth has been slowing more than anticipated through 2016 so far, with weak investment and trade damping aggregate demand. Meanwhile, risks in the form of Brexit, banking stress in Europe, rebalancing of debt-fuelled growth in China, rising protectionism and diminishing confidence in monetary policy have slanted the outlook to the downside. World trade volume has contracted sharper than expected in the first half of 2016, and the outlook has worsened with the recent falling off of imports by advanced economies (AEs) from emerging market economies (EMEs). Inflation remains subdued in AEs and has started to edge down in EMEs.  International financial markets were overwhelmed by the Brexit vote in Q2, with equity markets losing valuations worldwide, currencies plunging and turning volatile, and investors rushing for safe havens. Markets, however, recovered quickly and reclaimed lost ground in Q3, with a return of risk appetite propelling capital flows back into EMEs. Nonetheless, an uneasy calm prevails on uncertainty about the stance of monetary policy of systemic central banks. Commodity prices have firmed up slightly, easing stress for commodity exporters and shaving off some of the terms of trade gains accruing to commodity importers. Crude prices rose to a recent peak in Q2 of 2016, mostly on supply disruption in various parts of the world, and again in late September as the OPEC announced intentions of cutting back on supply; but, the upturn has been curbed by higher inventories.  On the domestic front, the outlook for agricultural activity has brightened considerably. The south west monsoon ended the season with a cumulative deficit of only 3 percent below the long period average, with 85 percent of the country’s geographical area having received normal to excess precipitation. Kharif sowing has surpassed last year’s acreage, barring cotton, sugarcane and jute and mesta. Accordingly, the first advance estimates of kharif foodgrains production for 2016-17 by the Ministry of Agriculture have been placed at a record level, and higher than the target set for the year. The industrial sector, by contrast, suffered a manufacturing-driven contraction in early fiscal year Q2, after a sequential deceleration in gross value added in Q1. Even after trimming the statistical effects of the lumpy and order-driven contraction of insulated rubber cables, industrial production as measured by the index of industrial production (IIP) turned out to be slower than a year ago. In August, steel production rose to a 37-month high and cement production maintained momentum - auguring well for construction activity - even though the output of core industries as a whole was weighed down by a decline in the production of coal, crude oil and natural gas and deceleration in refinery products and electricity generation. Nonetheless, business expectations polled in the Reserve Bank’s industrial outlook survey and by other agencies remain expansionary in Q2 and Q3. The strong public investment in roads, railways and inland waterways, the recent efforts to unclog cash flows in large projects under arbitration, and the boost to spending from the 7th Pay Commission’s award, should improve the industrial outlook. In the services sector, the acceleration in the pace of activity in Q1 appears to have been sustained. An  3  increasing number of high frequency indicators are moving into positive territory, construction is boosted by policy initiatives, and public administration, defence and other services will be supported by the pay commission award.  Retail inflation measured by the headline CPI had been elevated by a sharp pick-up in the momentum of food inflation overwhelming favourable base effects during April-July. In August, however, the momentum of food inflation turned negative and surprised expectations; consequently, base effects in that month came into full play and pulled down headline inflation to an intra-year low. Fuel inflation has moderated steadily through the year so far. Inflation excluding food and fuel (including petrol and diesel embedded in transportation) has been sticky around 5 percent, mainly in respect to education, medical and personal care services. Households reacted to the recent hardening of food inflation adaptively and raised their inflation expectations in the September 2016 round of the Reserve Bank’s inflation expectations survey of households. Input costs in the manufacturing sector, including staff costs, have firmed up slightly as evident in various surveys, but the presence of considerable slack has restrained their transmission into corporate pricing power.  Liquidity conditions have remained comfortable in Q3, with the Reserve Bank absorbing liquidity on a net basis through variable rate reverse repo auctions of varying tenors. Liquidity was injected through open market purchases of ` 200 billion in line with the system’s requirements. As a result, the weighted average call money rate (WACR) remained tightly aligned with the policy repo rate and, in fact, traded with a soft bias. Interest rates on commercial paper (CPs) and certificates of deposit (CD) also eased.  In the external sector, merchandise exports contracted in the first two months of Q2. Subdued domestic demand was, however, reflected in a faster contraction in imports. Moreover, the still soft crude prices pared off a fifth of the oil import bill and gold import volume slumped to a fifth of its volume a year ago. Consequently, the merchandise trade deficit narrowed by US$ 10 billion in April-August on a year-on-year basis. These developments are likely to have contained the current account deficit in Q2 at its level in Q1, although the decline in remittances and the flattening of software earnings warrants monitoring. While the pace of foreign direct investment slowed compared to a year ago, portfolio flows were stronger after the Brexit vote, galvanised by a search for returns in an expanding universe of negative yields. The level of foreign exchange reserves rose to US$ 372 billion by September 30, 2016 – an all-time high.  Outlook  The Committee expects that the strong improvement in sowing, along with supply management measures, will improve the food inflation outlook. It notes that the sharp drop in inflation reflects a downward shift in the momentum of food inflation – which holds the key to future inflation outcomes – rather than merely the statistical effects of a favourable base effect. The Government has announced several measures to cool food inflation pressures, especially with regard to pulses. These measures should help in moderating the momentum of food inflation in the months ahead. This has opened up space for policy action, as indicated in the third bi-monthly monetary policy statement. The easy liquidity conditions engendered by the Reserve Bank’s operations should also enable the smooth transmission of the policy action through various market segments. Furthermore, banks should find added impetus for better transmission by the recent downward adjustment in small savings rates. The Committee took note of potential cost push pressures that may emerge, including the 7th pay commission award on house rent allowances, and the increase  4  in minimum wages with possible spillovers through minimum support prices. The fuller play of these factors will need vigilance to prevent a generalised cost spiral from taking root. On balance, the Committee envisages a trajectory taking headline CPI inflation towards a central tendency of 5 percent by March 2017, with risks tilted to the upside albeit lower than in the second and third bi-monthly monetary policy statements of June and August respectively (Chart 1).  The momentum of growth is expected to quicken with a normal monsoon raising agricultural growth and rural demand, as well as by the stimulus to the urban consumption spending from the pay commission’s award. The accommodative stance of monetary policy and comfortable liquidity conditions should support a revival of credit to the productive sectors. The continuing sluggishness in world trade and smaller terms of trade gains than in the past point, however, to further slackening of external demand going forward. Accordingly, the projection of growth of real gross value added (GVA) for 2016-17 is retained at 7.6 percent, with risks evenly balanced around it (Chart 2).                          Six members voted in favour of the monetary policy decision. The minutes of the MPC’s meeting will be published on October 18, 2016. The next meeting of the MPC is scheduled on December 6 and 7, 2016 and its resolution will be announced on December 7, 2016.  Voting on the Resolution to reduce the policy repo rate by 25 basis points   5  Statement by Dr. Chetan Ghate  In view of a good monsoon, a decline in food inflation and better food supply management by the government, there has been some abatement of both cyclical and structural risks to the March 2017 consumer price index (CPI) inflation target. With persistent slack in the economy evidenced by unutilised capacity over the past few years, corporate pricing power remains weak. The persistence of core inflation remains a concern. While I recognise that upside risks to meeting the objective of 5 percent CPI inflation by Q4 of 2016-17 remain, given the current juncture, these are acceptable risks. Expectations of future inflation at the monetary policy horizon, as evidenced by the survey of professional forecasters, are closer to the inflation target, which is also expected to contribute to low and stable inflation.  On growth, there are signs of revival of economic activity, which needs to be nurtured.  Taking into account these considerations, I vote for a 25 basis points (bps) cut in the policy repo rate from 6.50 percent to 6.25 percent at today’s meeting of the Monetary Policy Committee.   Statement by Dr. Pami Dua  The modest softening of inflation and inflation expectations seen in some of the surveys conducted by the Reserve Bank, along with lacklustre private investment spending and unused capacity, provides a window for a reduction in the policy rate.  While RBI’s Inflation Expectations Survey of Households suggests elevated inflation expectations, the Consumer Confidence Survey presents an encouraging outlook for the price situation as well as future economic conditions. Further, while RBI’s Industrial Outlook Survey suggests some increase in input price pressures in the manufacturing sector in the short-run, this is not expected to transmit to higher selling prices. On the other hand, input cost expectations are muted in the infrastructure sector. Additionally, the Survey of Professional Forecasters suggests anchoring of inflation expectations.  In this backdrop, I feel that it is a good time to support growth by reducing the policy rate.  Accordingly, I vote for a 25 basis points (bps) cut in the policy repo rate from 50 percent to 6.25 percent at today’s meeting of the Monetary Policy Committee.  Statement by Dr. Ravindra H. Dholakia  Some of the upside risks to inflation discussed in the MPC meeting on October and 4, 2016, particularly arising out of the award of the 7th Pay Commission, are largely statistical according to me. Looking forward, in my opinion, the probability of inflation turning up from the current level is reasonably less. On the other hand, there are good chances for the consumer inflation to soften further substantially, benefiting from a good monsoon, supply management measures of the Government and ongoing reforms gaining traction in terms of reducing costs and improving output response.  As far as the growth outlook is concerned, I hold the view that the potential growth path of the Indian economy is gradually moving up, particularly in response to several reform measures implemented by the Government. Since there is substantial under-utilisation of capacity in the system, I do not see major risk to inflation if the  6  output gap closes fast. The above assessment gives me the comfort to vote in favour of a cut in the repo rate by 25 basis points.  Statement by Dr. Michael Debabrata Patra  I vote for a reduction in the policy repo rate by 25 basis points and I fully endorse the rationale for the decision set out in the fourth bi-monthly monetary policy statement.  Several parts of the economy are languishing, but as the statement points out, other parts – agricultural activity; steel production; public investment in roads, railways and inland waterways; some categories of services; transmission of policy impulses through financial markets stimulated by ample liquidity; foreign portfolio investment – are mending and coming together for a potential revival. The most important among these positives is the improvement in the inflation outlook. In a framework in which inflation forecasts congeal all available information and serve as the intermediate target of monetary policy, two aspects are noteworthy: (a) the level of the inflation forecast for Q4 of 2016-17 is closer to the target than before; and (b) it has been moving down in relation to the second and third bi-monthly statement projections. This is not to say that the beast has been beaten or it’s back broken, but there is a turn in its momentum that is exploitable, especially by measures that hold down month-on-month changes in prices of essential food items. Moreover, the reduction in inflation in August is more real than statistical – a collapse in momentum which allowed the play of base effects. If the beneficial effects of the satisfactory monsoon keep momentum muted and take inflation below the projection for Q3, the target for Q4 should be achievable. Therefore, while staying focused on the path of disinflation set out in previous monetary policy statements, it is, in my view, most timely now to reduce the policy rate by 25 basis points and drive the actualisation of the macroeconomic configuration that seems to be forming – a reasonable probability of inflation converging to its target and the economy poised on the threshold of an acceleration of growth in the next three quarters of the year. It is crucial, however, to step up vigil around the upturn in inflation projected in the last quarter of 2016-17 to guard against any risk to the target.  Statement by Shri R. Gandhi  I agree with the assessment of risks to growth and inflation presented in the MPC resolution and vote in favour of lowering the policy repo rate by 25 basis points because of the following specific reasons.  While risks to India’s growth from a still fragile global economy have increased, particularly through the trade channel, risks to inflation from global factors may be easing, going by the observed high intensity and spread of global disinflation.  From amongst the domestic sources of risks to inflation, I see the maximum comfort coming from pulses. The first advance estimates of kharif foodgrains point to pulses production rising by 57 percent this year. Despite two consecutive years of droughts, food inflation could be contained because of effective supply management measures by the Government. With a normal monsoon this year, I expect food inflation to stay even more firmly contained. Given the high weight of food in the CPI basket, supply response and supply management will remain critically important to influence the space for monetary policy actions.  On the growth front, while the pace is expected to gain gradual momentum, the private investment cycle remains depressed and is yet to respond adequately to  7  the improving consumption demand. Recent data on production of capital goods, imports of capital goods and flow of credit to industry indicate the weak state of investment demand. In this environment, a rate cut according to me will help in stimulating investment demand while also easing somewhat the pressure on firms stemming from balance sheet repairs.  Statement by Dr. Urjit R. Patel  Indicators of economic activity pointed to a subdued outlook, though gradually improving; further, continuing low capacity utilisation in industry and the persistence of the output gap suggested that pricing power is likely to remain low. Importantly, high frequency data embedded in our forward-looking surveys as well as daily movements in prices of fruits and vegetables, cereals and even pulses across the country gave us some confidence that the inflation target of 5 percent for Q4 of 2016-17 can be achieved. Therefore, while our model-based projections indicated upside risks to the target, a calibrated policy judgement was warranted, given that some space for policy action had opened up with the fall in inflation in the August reading. Nonetheless, inflation outcomes in Q4 will have to be carefully and continuously monitored as upside risks, albeit lower now than before, persist.    Alpana Killawala Press Release : 2016-2017/954\\tPrincipal Adviser Member Vote Dr. Chetan Ghate Yes Dr. Pami Dua Yes Dr. Ravindra H. Dholakia Yes Dr. Michael Debabrata Patra Yes Shri R. Gandhi Yes Dr. Urjit R. Patel Yes'"
      ]
     },
     "execution_count": 9,
     "metadata": {},
     "output_type": "execute_result"
    }
   ],
   "source": [
    "ind_texts[0]"
   ]
  },
  {
   "cell_type": "code",
   "execution_count": 59,
   "id": "c7e07e18",
   "metadata": {
    "scrolled": true
   },
   "outputs": [],
   "source": [
    "ind_nlps[0]"
   ]
  },
  {
   "cell_type": "markdown",
   "id": "db533d7a",
   "metadata": {},
   "source": [
    "<h1 style=\"font-family:tahoma; color:brown; font-size:20px;\" > CREATING CONSOLIDATED NLP </h1>"
   ]
  },
  {
   "cell_type": "code",
   "execution_count": 11,
   "id": "51cdeee6",
   "metadata": {},
   "outputs": [],
   "source": [
    "# the full_text is long for NLP to process so we split in to chunks\n",
    "\n",
    "def process_in_chunks(text, chunk_size=1000000):\n",
    "    # Split the text into chunks\n",
    "    chunks = [text[i:i + chunk_size] for i in range(0, len(text), chunk_size)]\n",
    "    # Process each chunk\n",
    "    docs = [nlp(chunk) for chunk in chunks]\n",
    "    return docs\n",
    "\n",
    "\n",
    "# Process the text\n",
    "nlp_chunks = process_in_chunks(full_text)\n"
   ]
  },
  {
   "cell_type": "markdown",
   "id": "b0505569",
   "metadata": {},
   "source": [
    "<h1 style=\"font-family:tahoma; color:darkblue; font-size: 35px;\" > • <u> DESCRIPTIVE</u> <u>ANALYSIS</u> (<u>TOTAL</u> <u>NUMBER</u> <u>OF</u> <u>WORDS</u>, <u>PAGES</u>, <u>PERSONS</u>, <u>DOCUMENT-WISE</u> <u>AND</u> <u>CONSOLIDATED</u>) </u></h1>\n",
    " \n",
    "<h1 style=\"font-family:tahoma; color:brown; font-size: 20px\"; >  <strong> creating a dataframe </strong></h1>"
   ]
  },
  {
   "cell_type": "code",
   "execution_count": 12,
   "id": "ab828cdb",
   "metadata": {},
   "outputs": [
    {
     "data": {
      "application/javascript": [
       "\n",
       "        if (window._pyforest_update_imports_cell) { window._pyforest_update_imports_cell('import spacy\\nimport os\\nimport pandas as pd'); }\n",
       "    "
      ],
      "text/plain": [
       "<IPython.core.display.Javascript object>"
      ]
     },
     "metadata": {},
     "output_type": "display_data"
    }
   ],
   "source": [
    "df = pd.DataFrame()"
   ]
  },
  {
   "cell_type": "code",
   "execution_count": 13,
   "id": "54a4c3cf",
   "metadata": {},
   "outputs": [
    {
     "data": {
      "application/javascript": [
       "\n",
       "        if (window._pyforest_update_imports_cell) { window._pyforest_update_imports_cell('import spacy\\nimport numpy as np\\nimport pandas as pd\\nimport os'); }\n",
       "    "
      ],
      "text/plain": [
       "<IPython.core.display.Javascript object>"
      ]
     },
     "metadata": {},
     "output_type": "display_data"
    },
    {
     "data": {
      "application/javascript": [
       "\n",
       "        if (window._pyforest_update_imports_cell) { window._pyforest_update_imports_cell('import spacy\\nimport numpy as np\\nimport pandas as pd\\nimport os'); }\n",
       "    "
      ],
      "text/plain": [
       "<IPython.core.display.Javascript object>"
      ]
     },
     "metadata": {},
     "output_type": "display_data"
    },
    {
     "data": {
      "application/javascript": [
       "\n",
       "        if (window._pyforest_update_imports_cell) { window._pyforest_update_imports_cell('import spacy\\nimport numpy as np\\nimport pandas as pd\\nimport os'); }\n",
       "    "
      ],
      "text/plain": [
       "<IPython.core.display.Javascript object>"
      ]
     },
     "metadata": {},
     "output_type": "display_data"
    },
    {
     "data": {
      "application/javascript": [
       "\n",
       "        if (window._pyforest_update_imports_cell) { window._pyforest_update_imports_cell('import spacy\\nimport numpy as np\\nimport pandas as pd\\nimport os'); }\n",
       "    "
      ],
      "text/plain": [
       "<IPython.core.display.Javascript object>"
      ]
     },
     "metadata": {},
     "output_type": "display_data"
    },
    {
     "data": {
      "application/javascript": [
       "\n",
       "        if (window._pyforest_update_imports_cell) { window._pyforest_update_imports_cell('import spacy\\nimport numpy as np\\nimport pandas as pd\\nimport os'); }\n",
       "    "
      ],
      "text/plain": [
       "<IPython.core.display.Javascript object>"
      ]
     },
     "metadata": {},
     "output_type": "display_data"
    },
    {
     "data": {
      "application/javascript": [
       "\n",
       "        if (window._pyforest_update_imports_cell) { window._pyforest_update_imports_cell('import spacy\\nimport numpy as np\\nimport pandas as pd\\nimport os'); }\n",
       "    "
      ],
      "text/plain": [
       "<IPython.core.display.Javascript object>"
      ]
     },
     "metadata": {},
     "output_type": "display_data"
    },
    {
     "data": {
      "application/javascript": [
       "\n",
       "        if (window._pyforest_update_imports_cell) { window._pyforest_update_imports_cell('import spacy\\nimport numpy as np\\nimport pandas as pd\\nimport os'); }\n",
       "    "
      ],
      "text/plain": [
       "<IPython.core.display.Javascript object>"
      ]
     },
     "metadata": {},
     "output_type": "display_data"
    },
    {
     "data": {
      "application/javascript": [
       "\n",
       "        if (window._pyforest_update_imports_cell) { window._pyforest_update_imports_cell('import spacy\\nimport numpy as np\\nimport pandas as pd\\nimport os'); }\n",
       "    "
      ],
      "text/plain": [
       "<IPython.core.display.Javascript object>"
      ]
     },
     "metadata": {},
     "output_type": "display_data"
    },
    {
     "data": {
      "application/javascript": [
       "\n",
       "        if (window._pyforest_update_imports_cell) { window._pyforest_update_imports_cell('import spacy\\nimport numpy as np\\nimport pandas as pd\\nimport os'); }\n",
       "    "
      ],
      "text/plain": [
       "<IPython.core.display.Javascript object>"
      ]
     },
     "metadata": {},
     "output_type": "display_data"
    },
    {
     "data": {
      "application/javascript": [
       "\n",
       "        if (window._pyforest_update_imports_cell) { window._pyforest_update_imports_cell('import spacy\\nimport numpy as np\\nimport pandas as pd\\nimport os'); }\n",
       "    "
      ],
      "text/plain": [
       "<IPython.core.display.Javascript object>"
      ]
     },
     "metadata": {},
     "output_type": "display_data"
    },
    {
     "data": {
      "application/javascript": [
       "\n",
       "        if (window._pyforest_update_imports_cell) { window._pyforest_update_imports_cell('import spacy\\nimport numpy as np\\nimport pandas as pd\\nimport os'); }\n",
       "    "
      ],
      "text/plain": [
       "<IPython.core.display.Javascript object>"
      ]
     },
     "metadata": {},
     "output_type": "display_data"
    },
    {
     "data": {
      "application/javascript": [
       "\n",
       "        if (window._pyforest_update_imports_cell) { window._pyforest_update_imports_cell('import spacy\\nimport numpy as np\\nimport pandas as pd\\nimport os'); }\n",
       "    "
      ],
      "text/plain": [
       "<IPython.core.display.Javascript object>"
      ]
     },
     "metadata": {},
     "output_type": "display_data"
    },
    {
     "data": {
      "application/javascript": [
       "\n",
       "        if (window._pyforest_update_imports_cell) { window._pyforest_update_imports_cell('import spacy\\nimport numpy as np\\nimport pandas as pd\\nimport os'); }\n",
       "    "
      ],
      "text/plain": [
       "<IPython.core.display.Javascript object>"
      ]
     },
     "metadata": {},
     "output_type": "display_data"
    },
    {
     "data": {
      "application/javascript": [
       "\n",
       "        if (window._pyforest_update_imports_cell) { window._pyforest_update_imports_cell('import spacy\\nimport numpy as np\\nimport pandas as pd\\nimport os'); }\n",
       "    "
      ],
      "text/plain": [
       "<IPython.core.display.Javascript object>"
      ]
     },
     "metadata": {},
     "output_type": "display_data"
    },
    {
     "data": {
      "application/javascript": [
       "\n",
       "        if (window._pyforest_update_imports_cell) { window._pyforest_update_imports_cell('import spacy\\nimport numpy as np\\nimport pandas as pd\\nimport os'); }\n",
       "    "
      ],
      "text/plain": [
       "<IPython.core.display.Javascript object>"
      ]
     },
     "metadata": {},
     "output_type": "display_data"
    },
    {
     "data": {
      "application/javascript": [
       "\n",
       "        if (window._pyforest_update_imports_cell) { window._pyforest_update_imports_cell('import spacy\\nimport numpy as np\\nimport pandas as pd\\nimport os'); }\n",
       "    "
      ],
      "text/plain": [
       "<IPython.core.display.Javascript object>"
      ]
     },
     "metadata": {},
     "output_type": "display_data"
    },
    {
     "data": {
      "application/javascript": [
       "\n",
       "        if (window._pyforest_update_imports_cell) { window._pyforest_update_imports_cell('import spacy\\nimport numpy as np\\nimport pandas as pd\\nimport os'); }\n",
       "    "
      ],
      "text/plain": [
       "<IPython.core.display.Javascript object>"
      ]
     },
     "metadata": {},
     "output_type": "display_data"
    },
    {
     "data": {
      "application/javascript": [
       "\n",
       "        if (window._pyforest_update_imports_cell) { window._pyforest_update_imports_cell('import spacy\\nimport numpy as np\\nimport pandas as pd\\nimport os'); }\n",
       "    "
      ],
      "text/plain": [
       "<IPython.core.display.Javascript object>"
      ]
     },
     "metadata": {},
     "output_type": "display_data"
    },
    {
     "data": {
      "application/javascript": [
       "\n",
       "        if (window._pyforest_update_imports_cell) { window._pyforest_update_imports_cell('import spacy\\nimport numpy as np\\nimport pandas as pd\\nimport os'); }\n",
       "    "
      ],
      "text/plain": [
       "<IPython.core.display.Javascript object>"
      ]
     },
     "metadata": {},
     "output_type": "display_data"
    },
    {
     "data": {
      "application/javascript": [
       "\n",
       "        if (window._pyforest_update_imports_cell) { window._pyforest_update_imports_cell('import spacy\\nimport numpy as np\\nimport pandas as pd\\nimport os'); }\n",
       "    "
      ],
      "text/plain": [
       "<IPython.core.display.Javascript object>"
      ]
     },
     "metadata": {},
     "output_type": "display_data"
    },
    {
     "data": {
      "application/javascript": [
       "\n",
       "        if (window._pyforest_update_imports_cell) { window._pyforest_update_imports_cell('import spacy\\nimport numpy as np\\nimport pandas as pd\\nimport os'); }\n",
       "    "
      ],
      "text/plain": [
       "<IPython.core.display.Javascript object>"
      ]
     },
     "metadata": {},
     "output_type": "display_data"
    },
    {
     "data": {
      "application/javascript": [
       "\n",
       "        if (window._pyforest_update_imports_cell) { window._pyforest_update_imports_cell('import spacy\\nimport numpy as np\\nimport pandas as pd\\nimport os'); }\n",
       "    "
      ],
      "text/plain": [
       "<IPython.core.display.Javascript object>"
      ]
     },
     "metadata": {},
     "output_type": "display_data"
    },
    {
     "data": {
      "application/javascript": [
       "\n",
       "        if (window._pyforest_update_imports_cell) { window._pyforest_update_imports_cell('import spacy\\nimport numpy as np\\nimport pandas as pd\\nimport os'); }\n",
       "    "
      ],
      "text/plain": [
       "<IPython.core.display.Javascript object>"
      ]
     },
     "metadata": {},
     "output_type": "display_data"
    },
    {
     "data": {
      "application/javascript": [
       "\n",
       "        if (window._pyforest_update_imports_cell) { window._pyforest_update_imports_cell('import spacy\\nimport numpy as np\\nimport pandas as pd\\nimport os'); }\n",
       "    "
      ],
      "text/plain": [
       "<IPython.core.display.Javascript object>"
      ]
     },
     "metadata": {},
     "output_type": "display_data"
    },
    {
     "data": {
      "application/javascript": [
       "\n",
       "        if (window._pyforest_update_imports_cell) { window._pyforest_update_imports_cell('import spacy\\nimport numpy as np\\nimport pandas as pd\\nimport os'); }\n",
       "    "
      ],
      "text/plain": [
       "<IPython.core.display.Javascript object>"
      ]
     },
     "metadata": {},
     "output_type": "display_data"
    },
    {
     "data": {
      "application/javascript": [
       "\n",
       "        if (window._pyforest_update_imports_cell) { window._pyforest_update_imports_cell('import spacy\\nimport numpy as np\\nimport pandas as pd\\nimport os'); }\n",
       "    "
      ],
      "text/plain": [
       "<IPython.core.display.Javascript object>"
      ]
     },
     "metadata": {},
     "output_type": "display_data"
    },
    {
     "data": {
      "application/javascript": [
       "\n",
       "        if (window._pyforest_update_imports_cell) { window._pyforest_update_imports_cell('import spacy\\nimport numpy as np\\nimport pandas as pd\\nimport os'); }\n",
       "    "
      ],
      "text/plain": [
       "<IPython.core.display.Javascript object>"
      ]
     },
     "metadata": {},
     "output_type": "display_data"
    },
    {
     "data": {
      "application/javascript": [
       "\n",
       "        if (window._pyforest_update_imports_cell) { window._pyforest_update_imports_cell('import spacy\\nimport numpy as np\\nimport pandas as pd\\nimport os'); }\n",
       "    "
      ],
      "text/plain": [
       "<IPython.core.display.Javascript object>"
      ]
     },
     "metadata": {},
     "output_type": "display_data"
    },
    {
     "data": {
      "application/javascript": [
       "\n",
       "        if (window._pyforest_update_imports_cell) { window._pyforest_update_imports_cell('import spacy\\nimport numpy as np\\nimport pandas as pd\\nimport os'); }\n",
       "    "
      ],
      "text/plain": [
       "<IPython.core.display.Javascript object>"
      ]
     },
     "metadata": {},
     "output_type": "display_data"
    },
    {
     "data": {
      "application/javascript": [
       "\n",
       "        if (window._pyforest_update_imports_cell) { window._pyforest_update_imports_cell('import spacy\\nimport numpy as np\\nimport pandas as pd\\nimport os'); }\n",
       "    "
      ],
      "text/plain": [
       "<IPython.core.display.Javascript object>"
      ]
     },
     "metadata": {},
     "output_type": "display_data"
    },
    {
     "data": {
      "application/javascript": [
       "\n",
       "        if (window._pyforest_update_imports_cell) { window._pyforest_update_imports_cell('import spacy\\nimport numpy as np\\nimport pandas as pd\\nimport os'); }\n",
       "    "
      ],
      "text/plain": [
       "<IPython.core.display.Javascript object>"
      ]
     },
     "metadata": {},
     "output_type": "display_data"
    },
    {
     "data": {
      "application/javascript": [
       "\n",
       "        if (window._pyforest_update_imports_cell) { window._pyforest_update_imports_cell('import spacy\\nimport numpy as np\\nimport pandas as pd\\nimport os'); }\n",
       "    "
      ],
      "text/plain": [
       "<IPython.core.display.Javascript object>"
      ]
     },
     "metadata": {},
     "output_type": "display_data"
    },
    {
     "data": {
      "application/javascript": [
       "\n",
       "        if (window._pyforest_update_imports_cell) { window._pyforest_update_imports_cell('import spacy\\nimport numpy as np\\nimport pandas as pd\\nimport os'); }\n",
       "    "
      ],
      "text/plain": [
       "<IPython.core.display.Javascript object>"
      ]
     },
     "metadata": {},
     "output_type": "display_data"
    },
    {
     "data": {
      "application/javascript": [
       "\n",
       "        if (window._pyforest_update_imports_cell) { window._pyforest_update_imports_cell('import spacy\\nimport numpy as np\\nimport pandas as pd\\nimport os'); }\n",
       "    "
      ],
      "text/plain": [
       "<IPython.core.display.Javascript object>"
      ]
     },
     "metadata": {},
     "output_type": "display_data"
    },
    {
     "data": {
      "application/javascript": [
       "\n",
       "        if (window._pyforest_update_imports_cell) { window._pyforest_update_imports_cell('import spacy\\nimport numpy as np\\nimport pandas as pd\\nimport os'); }\n",
       "    "
      ],
      "text/plain": [
       "<IPython.core.display.Javascript object>"
      ]
     },
     "metadata": {},
     "output_type": "display_data"
    },
    {
     "data": {
      "application/javascript": [
       "\n",
       "        if (window._pyforest_update_imports_cell) { window._pyforest_update_imports_cell('import spacy\\nimport numpy as np\\nimport pandas as pd\\nimport os'); }\n",
       "    "
      ],
      "text/plain": [
       "<IPython.core.display.Javascript object>"
      ]
     },
     "metadata": {},
     "output_type": "display_data"
    },
    {
     "data": {
      "application/javascript": [
       "\n",
       "        if (window._pyforest_update_imports_cell) { window._pyforest_update_imports_cell('import spacy\\nimport numpy as np\\nimport pandas as pd\\nimport os'); }\n",
       "    "
      ],
      "text/plain": [
       "<IPython.core.display.Javascript object>"
      ]
     },
     "metadata": {},
     "output_type": "display_data"
    },
    {
     "data": {
      "application/javascript": [
       "\n",
       "        if (window._pyforest_update_imports_cell) { window._pyforest_update_imports_cell('import spacy\\nimport numpy as np\\nimport pandas as pd\\nimport os'); }\n",
       "    "
      ],
      "text/plain": [
       "<IPython.core.display.Javascript object>"
      ]
     },
     "metadata": {},
     "output_type": "display_data"
    },
    {
     "data": {
      "application/javascript": [
       "\n",
       "        if (window._pyforest_update_imports_cell) { window._pyforest_update_imports_cell('import spacy\\nimport numpy as np\\nimport pandas as pd\\nimport os'); }\n",
       "    "
      ],
      "text/plain": [
       "<IPython.core.display.Javascript object>"
      ]
     },
     "metadata": {},
     "output_type": "display_data"
    },
    {
     "data": {
      "application/javascript": [
       "\n",
       "        if (window._pyforest_update_imports_cell) { window._pyforest_update_imports_cell('import spacy\\nimport numpy as np\\nimport pandas as pd\\nimport os'); }\n",
       "    "
      ],
      "text/plain": [
       "<IPython.core.display.Javascript object>"
      ]
     },
     "metadata": {},
     "output_type": "display_data"
    },
    {
     "data": {
      "application/javascript": [
       "\n",
       "        if (window._pyforest_update_imports_cell) { window._pyforest_update_imports_cell('import spacy\\nimport numpy as np\\nimport pandas as pd\\nimport os'); }\n",
       "    "
      ],
      "text/plain": [
       "<IPython.core.display.Javascript object>"
      ]
     },
     "metadata": {},
     "output_type": "display_data"
    },
    {
     "data": {
      "application/javascript": [
       "\n",
       "        if (window._pyforest_update_imports_cell) { window._pyforest_update_imports_cell('import spacy\\nimport numpy as np\\nimport pandas as pd\\nimport os'); }\n",
       "    "
      ],
      "text/plain": [
       "<IPython.core.display.Javascript object>"
      ]
     },
     "metadata": {},
     "output_type": "display_data"
    },
    {
     "data": {
      "application/javascript": [
       "\n",
       "        if (window._pyforest_update_imports_cell) { window._pyforest_update_imports_cell('import spacy\\nimport numpy as np\\nimport pandas as pd\\nimport os'); }\n",
       "    "
      ],
      "text/plain": [
       "<IPython.core.display.Javascript object>"
      ]
     },
     "metadata": {},
     "output_type": "display_data"
    },
    {
     "data": {
      "application/javascript": [
       "\n",
       "        if (window._pyforest_update_imports_cell) { window._pyforest_update_imports_cell('import spacy\\nimport numpy as np\\nimport pandas as pd\\nimport os'); }\n",
       "    "
      ],
      "text/plain": [
       "<IPython.core.display.Javascript object>"
      ]
     },
     "metadata": {},
     "output_type": "display_data"
    },
    {
     "data": {
      "application/javascript": [
       "\n",
       "        if (window._pyforest_update_imports_cell) { window._pyforest_update_imports_cell('import spacy\\nimport numpy as np\\nimport pandas as pd\\nimport os'); }\n",
       "    "
      ],
      "text/plain": [
       "<IPython.core.display.Javascript object>"
      ]
     },
     "metadata": {},
     "output_type": "display_data"
    },
    {
     "data": {
      "application/javascript": [
       "\n",
       "        if (window._pyforest_update_imports_cell) { window._pyforest_update_imports_cell('import spacy\\nimport numpy as np\\nimport pandas as pd\\nimport os'); }\n",
       "    "
      ],
      "text/plain": [
       "<IPython.core.display.Javascript object>"
      ]
     },
     "metadata": {},
     "output_type": "display_data"
    }
   ],
   "source": [
    "cols = [f'docs{i}' for i in range(1,len(docs)+1)]\n",
    "\n",
    "for i in range(len(docs)):\n",
    "    df[cols[i]] = np.nan"
   ]
  },
  {
   "cell_type": "code",
   "execution_count": 14,
   "id": "9e25a79b",
   "metadata": {},
   "outputs": [
    {
     "data": {
      "application/javascript": [
       "\n",
       "        if (window._pyforest_update_imports_cell) { window._pyforest_update_imports_cell('import spacy\\nimport numpy as np\\nimport pandas as pd\\nimport os'); }\n",
       "    "
      ],
      "text/plain": [
       "<IPython.core.display.Javascript object>"
      ]
     },
     "metadata": {},
     "output_type": "display_data"
    },
    {
     "data": {
      "application/javascript": [
       "\n",
       "        if (window._pyforest_update_imports_cell) { window._pyforest_update_imports_cell('import spacy\\nimport numpy as np\\nimport pandas as pd\\nimport os'); }\n",
       "    "
      ],
      "text/plain": [
       "<IPython.core.display.Javascript object>"
      ]
     },
     "metadata": {},
     "output_type": "display_data"
    },
    {
     "data": {
      "application/javascript": [
       "\n",
       "        if (window._pyforest_update_imports_cell) { window._pyforest_update_imports_cell('import spacy\\nimport numpy as np\\nimport pandas as pd\\nimport os'); }\n",
       "    "
      ],
      "text/plain": [
       "<IPython.core.display.Javascript object>"
      ]
     },
     "metadata": {},
     "output_type": "display_data"
    }
   ],
   "source": [
    "df.loc[0,:] ,df.loc[1,:] , df.loc[2,:] = np.nan, np.nan , np.nan"
   ]
  },
  {
   "cell_type": "code",
   "execution_count": 15,
   "id": "26ce42fc",
   "metadata": {},
   "outputs": [
    {
     "data": {
      "application/javascript": [
       "\n",
       "        if (window._pyforest_update_imports_cell) { window._pyforest_update_imports_cell('import spacy\\nimport numpy as np\\nimport pandas as pd\\nimport os'); }\n",
       "    "
      ],
      "text/plain": [
       "<IPython.core.display.Javascript object>"
      ]
     },
     "metadata": {},
     "output_type": "display_data"
    }
   ],
   "source": [
    "df[\"consolidated\"] = np.nan"
   ]
  },
  {
   "cell_type": "code",
   "execution_count": 16,
   "id": "25b12a97",
   "metadata": {},
   "outputs": [],
   "source": [
    "df.index =[\"no.of words\", \"no.of pages\", \"no.of persons\"]"
   ]
  },
  {
   "cell_type": "code",
   "execution_count": 17,
   "id": "700b7af6",
   "metadata": {},
   "outputs": [
    {
     "data": {
      "text/html": [
       "<div>\n",
       "<style scoped>\n",
       "    .dataframe tbody tr th:only-of-type {\n",
       "        vertical-align: middle;\n",
       "    }\n",
       "\n",
       "    .dataframe tbody tr th {\n",
       "        vertical-align: top;\n",
       "    }\n",
       "\n",
       "    .dataframe thead th {\n",
       "        text-align: right;\n",
       "    }\n",
       "</style>\n",
       "<table border=\"1\" class=\"dataframe\">\n",
       "  <thead>\n",
       "    <tr style=\"text-align: right;\">\n",
       "      <th></th>\n",
       "      <th>docs1</th>\n",
       "      <th>docs2</th>\n",
       "      <th>docs3</th>\n",
       "      <th>docs4</th>\n",
       "      <th>docs5</th>\n",
       "      <th>docs6</th>\n",
       "      <th>docs7</th>\n",
       "      <th>docs8</th>\n",
       "      <th>docs9</th>\n",
       "      <th>docs10</th>\n",
       "      <th>...</th>\n",
       "      <th>docs38</th>\n",
       "      <th>docs39</th>\n",
       "      <th>docs40</th>\n",
       "      <th>docs41</th>\n",
       "      <th>docs42</th>\n",
       "      <th>docs43</th>\n",
       "      <th>docs44</th>\n",
       "      <th>docs45</th>\n",
       "      <th>docs46</th>\n",
       "      <th>consolidated</th>\n",
       "    </tr>\n",
       "  </thead>\n",
       "  <tbody>\n",
       "    <tr>\n",
       "      <th>no.of words</th>\n",
       "      <td>NaN</td>\n",
       "      <td>NaN</td>\n",
       "      <td>NaN</td>\n",
       "      <td>NaN</td>\n",
       "      <td>NaN</td>\n",
       "      <td>NaN</td>\n",
       "      <td>NaN</td>\n",
       "      <td>NaN</td>\n",
       "      <td>NaN</td>\n",
       "      <td>NaN</td>\n",
       "      <td>...</td>\n",
       "      <td>NaN</td>\n",
       "      <td>NaN</td>\n",
       "      <td>NaN</td>\n",
       "      <td>NaN</td>\n",
       "      <td>NaN</td>\n",
       "      <td>NaN</td>\n",
       "      <td>NaN</td>\n",
       "      <td>NaN</td>\n",
       "      <td>NaN</td>\n",
       "      <td>NaN</td>\n",
       "    </tr>\n",
       "    <tr>\n",
       "      <th>no.of pages</th>\n",
       "      <td>NaN</td>\n",
       "      <td>NaN</td>\n",
       "      <td>NaN</td>\n",
       "      <td>NaN</td>\n",
       "      <td>NaN</td>\n",
       "      <td>NaN</td>\n",
       "      <td>NaN</td>\n",
       "      <td>NaN</td>\n",
       "      <td>NaN</td>\n",
       "      <td>NaN</td>\n",
       "      <td>...</td>\n",
       "      <td>NaN</td>\n",
       "      <td>NaN</td>\n",
       "      <td>NaN</td>\n",
       "      <td>NaN</td>\n",
       "      <td>NaN</td>\n",
       "      <td>NaN</td>\n",
       "      <td>NaN</td>\n",
       "      <td>NaN</td>\n",
       "      <td>NaN</td>\n",
       "      <td>NaN</td>\n",
       "    </tr>\n",
       "    <tr>\n",
       "      <th>no.of persons</th>\n",
       "      <td>NaN</td>\n",
       "      <td>NaN</td>\n",
       "      <td>NaN</td>\n",
       "      <td>NaN</td>\n",
       "      <td>NaN</td>\n",
       "      <td>NaN</td>\n",
       "      <td>NaN</td>\n",
       "      <td>NaN</td>\n",
       "      <td>NaN</td>\n",
       "      <td>NaN</td>\n",
       "      <td>...</td>\n",
       "      <td>NaN</td>\n",
       "      <td>NaN</td>\n",
       "      <td>NaN</td>\n",
       "      <td>NaN</td>\n",
       "      <td>NaN</td>\n",
       "      <td>NaN</td>\n",
       "      <td>NaN</td>\n",
       "      <td>NaN</td>\n",
       "      <td>NaN</td>\n",
       "      <td>NaN</td>\n",
       "    </tr>\n",
       "  </tbody>\n",
       "</table>\n",
       "<p>3 rows × 47 columns</p>\n",
       "</div>"
      ],
      "text/plain": [
       "               docs1  docs2  docs3  docs4  docs5  docs6  docs7  docs8  docs9  \\\n",
       "no.of words      NaN    NaN    NaN    NaN    NaN    NaN    NaN    NaN    NaN   \n",
       "no.of pages      NaN    NaN    NaN    NaN    NaN    NaN    NaN    NaN    NaN   \n",
       "no.of persons    NaN    NaN    NaN    NaN    NaN    NaN    NaN    NaN    NaN   \n",
       "\n",
       "               docs10  ...  docs38  docs39  docs40  docs41  docs42  docs43  \\\n",
       "no.of words       NaN  ...     NaN     NaN     NaN     NaN     NaN     NaN   \n",
       "no.of pages       NaN  ...     NaN     NaN     NaN     NaN     NaN     NaN   \n",
       "no.of persons     NaN  ...     NaN     NaN     NaN     NaN     NaN     NaN   \n",
       "\n",
       "               docs44  docs45  docs46  consolidated  \n",
       "no.of words       NaN     NaN     NaN           NaN  \n",
       "no.of pages       NaN     NaN     NaN           NaN  \n",
       "no.of persons     NaN     NaN     NaN           NaN  \n",
       "\n",
       "[3 rows x 47 columns]"
      ]
     },
     "execution_count": 17,
     "metadata": {},
     "output_type": "execute_result"
    }
   ],
   "source": [
    "df"
   ]
  },
  {
   "cell_type": "markdown",
   "id": "0bc0d817",
   "metadata": {},
   "source": [
    "<h1 style=\"font-family:tahoma; color:blue; font-size: 30px\"; >  <strong> number of words </strong> </h1>"
   ]
  },
  {
   "cell_type": "code",
   "execution_count": 18,
   "id": "e92f53c9",
   "metadata": {},
   "outputs": [],
   "source": [
    "import docx"
   ]
  },
  {
   "cell_type": "markdown",
   "id": "14786715",
   "metadata": {},
   "source": [
    "<h1 style=\"font-family:tahoma; color:brown; font-size: 20px\"; >  <strong> individual docs </strong> </h1>"
   ]
  },
  {
   "cell_type": "code",
   "execution_count": 19,
   "id": "9d5a081d",
   "metadata": {},
   "outputs": [],
   "source": [
    "for i in range(len(docs)):\n",
    "    df.iloc[0,i] = int(len(ind_nlps[i]))"
   ]
  },
  {
   "cell_type": "code",
   "execution_count": 20,
   "id": "2238193e",
   "metadata": {},
   "outputs": [
    {
     "data": {
      "text/html": [
       "<div>\n",
       "<style scoped>\n",
       "    .dataframe tbody tr th:only-of-type {\n",
       "        vertical-align: middle;\n",
       "    }\n",
       "\n",
       "    .dataframe tbody tr th {\n",
       "        vertical-align: top;\n",
       "    }\n",
       "\n",
       "    .dataframe thead th {\n",
       "        text-align: right;\n",
       "    }\n",
       "</style>\n",
       "<table border=\"1\" class=\"dataframe\">\n",
       "  <thead>\n",
       "    <tr style=\"text-align: right;\">\n",
       "      <th></th>\n",
       "      <th>docs1</th>\n",
       "      <th>docs2</th>\n",
       "      <th>docs3</th>\n",
       "      <th>docs4</th>\n",
       "      <th>docs5</th>\n",
       "      <th>docs6</th>\n",
       "      <th>docs7</th>\n",
       "      <th>docs8</th>\n",
       "      <th>docs9</th>\n",
       "      <th>docs10</th>\n",
       "      <th>...</th>\n",
       "      <th>docs38</th>\n",
       "      <th>docs39</th>\n",
       "      <th>docs40</th>\n",
       "      <th>docs41</th>\n",
       "      <th>docs42</th>\n",
       "      <th>docs43</th>\n",
       "      <th>docs44</th>\n",
       "      <th>docs45</th>\n",
       "      <th>docs46</th>\n",
       "      <th>consolidated</th>\n",
       "    </tr>\n",
       "  </thead>\n",
       "  <tbody>\n",
       "    <tr>\n",
       "      <th>no.of words</th>\n",
       "      <td>3861.0</td>\n",
       "      <td>5568.0</td>\n",
       "      <td>6018.0</td>\n",
       "      <td>7144.0</td>\n",
       "      <td>8706.0</td>\n",
       "      <td>8132.0</td>\n",
       "      <td>7479.0</td>\n",
       "      <td>6975.0</td>\n",
       "      <td>8452.0</td>\n",
       "      <td>7711.0</td>\n",
       "      <td>...</td>\n",
       "      <td>8436.0</td>\n",
       "      <td>8150.0</td>\n",
       "      <td>8268.0</td>\n",
       "      <td>7781.0</td>\n",
       "      <td>7341.0</td>\n",
       "      <td>7836.0</td>\n",
       "      <td>6878.0</td>\n",
       "      <td>6970.0</td>\n",
       "      <td>7167.0</td>\n",
       "      <td>NaN</td>\n",
       "    </tr>\n",
       "    <tr>\n",
       "      <th>no.of pages</th>\n",
       "      <td>NaN</td>\n",
       "      <td>NaN</td>\n",
       "      <td>NaN</td>\n",
       "      <td>NaN</td>\n",
       "      <td>NaN</td>\n",
       "      <td>NaN</td>\n",
       "      <td>NaN</td>\n",
       "      <td>NaN</td>\n",
       "      <td>NaN</td>\n",
       "      <td>NaN</td>\n",
       "      <td>...</td>\n",
       "      <td>NaN</td>\n",
       "      <td>NaN</td>\n",
       "      <td>NaN</td>\n",
       "      <td>NaN</td>\n",
       "      <td>NaN</td>\n",
       "      <td>NaN</td>\n",
       "      <td>NaN</td>\n",
       "      <td>NaN</td>\n",
       "      <td>NaN</td>\n",
       "      <td>NaN</td>\n",
       "    </tr>\n",
       "    <tr>\n",
       "      <th>no.of persons</th>\n",
       "      <td>NaN</td>\n",
       "      <td>NaN</td>\n",
       "      <td>NaN</td>\n",
       "      <td>NaN</td>\n",
       "      <td>NaN</td>\n",
       "      <td>NaN</td>\n",
       "      <td>NaN</td>\n",
       "      <td>NaN</td>\n",
       "      <td>NaN</td>\n",
       "      <td>NaN</td>\n",
       "      <td>...</td>\n",
       "      <td>NaN</td>\n",
       "      <td>NaN</td>\n",
       "      <td>NaN</td>\n",
       "      <td>NaN</td>\n",
       "      <td>NaN</td>\n",
       "      <td>NaN</td>\n",
       "      <td>NaN</td>\n",
       "      <td>NaN</td>\n",
       "      <td>NaN</td>\n",
       "      <td>NaN</td>\n",
       "    </tr>\n",
       "  </tbody>\n",
       "</table>\n",
       "<p>3 rows × 47 columns</p>\n",
       "</div>"
      ],
      "text/plain": [
       "                docs1   docs2   docs3   docs4   docs5   docs6   docs7   docs8  \\\n",
       "no.of words    3861.0  5568.0  6018.0  7144.0  8706.0  8132.0  7479.0  6975.0   \n",
       "no.of pages       NaN     NaN     NaN     NaN     NaN     NaN     NaN     NaN   \n",
       "no.of persons     NaN     NaN     NaN     NaN     NaN     NaN     NaN     NaN   \n",
       "\n",
       "                docs9  docs10  ...  docs38  docs39  docs40  docs41  docs42  \\\n",
       "no.of words    8452.0  7711.0  ...  8436.0  8150.0  8268.0  7781.0  7341.0   \n",
       "no.of pages       NaN     NaN  ...     NaN     NaN     NaN     NaN     NaN   \n",
       "no.of persons     NaN     NaN  ...     NaN     NaN     NaN     NaN     NaN   \n",
       "\n",
       "               docs43  docs44  docs45  docs46  consolidated  \n",
       "no.of words    7836.0  6878.0  6970.0  7167.0           NaN  \n",
       "no.of pages       NaN     NaN     NaN     NaN           NaN  \n",
       "no.of persons     NaN     NaN     NaN     NaN           NaN  \n",
       "\n",
       "[3 rows x 47 columns]"
      ]
     },
     "execution_count": 20,
     "metadata": {},
     "output_type": "execute_result"
    }
   ],
   "source": [
    "df"
   ]
  },
  {
   "cell_type": "markdown",
   "id": "504cd897",
   "metadata": {},
   "source": [
    "<h1 style=\"font-family:tahoma; color:brown; font-size: 20px\"; >  <strong> consolidated </strong> </h1>"
   ]
  },
  {
   "cell_type": "code",
   "execution_count": 21,
   "id": "da7cbc64",
   "metadata": {},
   "outputs": [],
   "source": [
    "total_words = sum(df.T[\"no.of words\"].dropna())"
   ]
  },
  {
   "cell_type": "code",
   "execution_count": 22,
   "id": "0ed5537f",
   "metadata": {},
   "outputs": [
    {
     "data": {
      "text/plain": [
       "396436.0"
      ]
     },
     "execution_count": 22,
     "metadata": {},
     "output_type": "execute_result"
    }
   ],
   "source": [
    "total_words"
   ]
  },
  {
   "cell_type": "code",
   "execution_count": 23,
   "id": "61202974",
   "metadata": {},
   "outputs": [],
   "source": [
    "df.iloc[0,-1] = total_words"
   ]
  },
  {
   "cell_type": "code",
   "execution_count": 24,
   "id": "48119e9e",
   "metadata": {},
   "outputs": [
    {
     "data": {
      "text/html": [
       "<div>\n",
       "<style scoped>\n",
       "    .dataframe tbody tr th:only-of-type {\n",
       "        vertical-align: middle;\n",
       "    }\n",
       "\n",
       "    .dataframe tbody tr th {\n",
       "        vertical-align: top;\n",
       "    }\n",
       "\n",
       "    .dataframe thead th {\n",
       "        text-align: right;\n",
       "    }\n",
       "</style>\n",
       "<table border=\"1\" class=\"dataframe\">\n",
       "  <thead>\n",
       "    <tr style=\"text-align: right;\">\n",
       "      <th></th>\n",
       "      <th>docs1</th>\n",
       "      <th>docs2</th>\n",
       "      <th>docs3</th>\n",
       "      <th>docs4</th>\n",
       "      <th>docs5</th>\n",
       "      <th>docs6</th>\n",
       "      <th>docs7</th>\n",
       "      <th>docs8</th>\n",
       "      <th>docs9</th>\n",
       "      <th>docs10</th>\n",
       "      <th>...</th>\n",
       "      <th>docs38</th>\n",
       "      <th>docs39</th>\n",
       "      <th>docs40</th>\n",
       "      <th>docs41</th>\n",
       "      <th>docs42</th>\n",
       "      <th>docs43</th>\n",
       "      <th>docs44</th>\n",
       "      <th>docs45</th>\n",
       "      <th>docs46</th>\n",
       "      <th>consolidated</th>\n",
       "    </tr>\n",
       "  </thead>\n",
       "  <tbody>\n",
       "    <tr>\n",
       "      <th>no.of words</th>\n",
       "      <td>3861.0</td>\n",
       "      <td>5568.0</td>\n",
       "      <td>6018.0</td>\n",
       "      <td>7144.0</td>\n",
       "      <td>8706.0</td>\n",
       "      <td>8132.0</td>\n",
       "      <td>7479.0</td>\n",
       "      <td>6975.0</td>\n",
       "      <td>8452.0</td>\n",
       "      <td>7711.0</td>\n",
       "      <td>...</td>\n",
       "      <td>8436.0</td>\n",
       "      <td>8150.0</td>\n",
       "      <td>8268.0</td>\n",
       "      <td>7781.0</td>\n",
       "      <td>7341.0</td>\n",
       "      <td>7836.0</td>\n",
       "      <td>6878.0</td>\n",
       "      <td>6970.0</td>\n",
       "      <td>7167.0</td>\n",
       "      <td>396436.0</td>\n",
       "    </tr>\n",
       "    <tr>\n",
       "      <th>no.of pages</th>\n",
       "      <td>NaN</td>\n",
       "      <td>NaN</td>\n",
       "      <td>NaN</td>\n",
       "      <td>NaN</td>\n",
       "      <td>NaN</td>\n",
       "      <td>NaN</td>\n",
       "      <td>NaN</td>\n",
       "      <td>NaN</td>\n",
       "      <td>NaN</td>\n",
       "      <td>NaN</td>\n",
       "      <td>...</td>\n",
       "      <td>NaN</td>\n",
       "      <td>NaN</td>\n",
       "      <td>NaN</td>\n",
       "      <td>NaN</td>\n",
       "      <td>NaN</td>\n",
       "      <td>NaN</td>\n",
       "      <td>NaN</td>\n",
       "      <td>NaN</td>\n",
       "      <td>NaN</td>\n",
       "      <td>NaN</td>\n",
       "    </tr>\n",
       "    <tr>\n",
       "      <th>no.of persons</th>\n",
       "      <td>NaN</td>\n",
       "      <td>NaN</td>\n",
       "      <td>NaN</td>\n",
       "      <td>NaN</td>\n",
       "      <td>NaN</td>\n",
       "      <td>NaN</td>\n",
       "      <td>NaN</td>\n",
       "      <td>NaN</td>\n",
       "      <td>NaN</td>\n",
       "      <td>NaN</td>\n",
       "      <td>...</td>\n",
       "      <td>NaN</td>\n",
       "      <td>NaN</td>\n",
       "      <td>NaN</td>\n",
       "      <td>NaN</td>\n",
       "      <td>NaN</td>\n",
       "      <td>NaN</td>\n",
       "      <td>NaN</td>\n",
       "      <td>NaN</td>\n",
       "      <td>NaN</td>\n",
       "      <td>NaN</td>\n",
       "    </tr>\n",
       "  </tbody>\n",
       "</table>\n",
       "<p>3 rows × 47 columns</p>\n",
       "</div>"
      ],
      "text/plain": [
       "                docs1   docs2   docs3   docs4   docs5   docs6   docs7   docs8  \\\n",
       "no.of words    3861.0  5568.0  6018.0  7144.0  8706.0  8132.0  7479.0  6975.0   \n",
       "no.of pages       NaN     NaN     NaN     NaN     NaN     NaN     NaN     NaN   \n",
       "no.of persons     NaN     NaN     NaN     NaN     NaN     NaN     NaN     NaN   \n",
       "\n",
       "                docs9  docs10  ...  docs38  docs39  docs40  docs41  docs42  \\\n",
       "no.of words    8452.0  7711.0  ...  8436.0  8150.0  8268.0  7781.0  7341.0   \n",
       "no.of pages       NaN     NaN  ...     NaN     NaN     NaN     NaN     NaN   \n",
       "no.of persons     NaN     NaN  ...     NaN     NaN     NaN     NaN     NaN   \n",
       "\n",
       "               docs43  docs44  docs45  docs46  consolidated  \n",
       "no.of words    7836.0  6878.0  6970.0  7167.0      396436.0  \n",
       "no.of pages       NaN     NaN     NaN     NaN           NaN  \n",
       "no.of persons     NaN     NaN     NaN     NaN           NaN  \n",
       "\n",
       "[3 rows x 47 columns]"
      ]
     },
     "execution_count": 24,
     "metadata": {},
     "output_type": "execute_result"
    }
   ],
   "source": [
    "df"
   ]
  },
  {
   "cell_type": "code",
   "execution_count": null,
   "id": "087f81e4",
   "metadata": {},
   "outputs": [],
   "source": []
  },
  {
   "cell_type": "markdown",
   "id": "6856ec33",
   "metadata": {},
   "source": [
    "<h1 style=\"font-family:tahoma; color:blue; font-size: 30px\"; >  <strong> number of  pages </strong> </h1>"
   ]
  },
  {
   "cell_type": "code",
   "execution_count": 25,
   "id": "4f0efc85",
   "metadata": {},
   "outputs": [],
   "source": [
    "import PyPDF2"
   ]
  },
  {
   "cell_type": "markdown",
   "id": "246893ef",
   "metadata": {},
   "source": [
    "<h1 style=\"font-family:tahoma; color:brown; font-size: 20px\"; >  <strong> individual docs </strong> </h1>"
   ]
  },
  {
   "cell_type": "code",
   "execution_count": 26,
   "id": "a61e067f",
   "metadata": {},
   "outputs": [],
   "source": [
    "def count_pdf_pages(file_path):\n",
    "    with open(file_path, 'rb') as file:\n",
    "        reader = PyPDF2.PdfReader(file)\n",
    "        return len(reader.pages)"
   ]
  },
  {
   "cell_type": "code",
   "execution_count": 27,
   "id": "a577261b",
   "metadata": {},
   "outputs": [],
   "source": [
    "for i,j in enumerate(docs):\n",
    "    count = 0\n",
    "    file_path = f'C:/Users/Lenovo/Desktop/New folder (2)/{j[9:-5]}.pdf'\n",
    "    count = count_pdf_pages(file_path)\n",
    "\n",
    "    df.iloc[1,i] = count"
   ]
  },
  {
   "cell_type": "code",
   "execution_count": 28,
   "id": "0a5a511e",
   "metadata": {
    "scrolled": true
   },
   "outputs": [
    {
     "data": {
      "text/html": [
       "<div>\n",
       "<style scoped>\n",
       "    .dataframe tbody tr th:only-of-type {\n",
       "        vertical-align: middle;\n",
       "    }\n",
       "\n",
       "    .dataframe tbody tr th {\n",
       "        vertical-align: top;\n",
       "    }\n",
       "\n",
       "    .dataframe thead th {\n",
       "        text-align: right;\n",
       "    }\n",
       "</style>\n",
       "<table border=\"1\" class=\"dataframe\">\n",
       "  <thead>\n",
       "    <tr style=\"text-align: right;\">\n",
       "      <th></th>\n",
       "      <th>docs1</th>\n",
       "      <th>docs2</th>\n",
       "      <th>docs3</th>\n",
       "      <th>docs4</th>\n",
       "      <th>docs5</th>\n",
       "      <th>docs6</th>\n",
       "      <th>docs7</th>\n",
       "      <th>docs8</th>\n",
       "      <th>docs9</th>\n",
       "      <th>docs10</th>\n",
       "      <th>...</th>\n",
       "      <th>docs38</th>\n",
       "      <th>docs39</th>\n",
       "      <th>docs40</th>\n",
       "      <th>docs41</th>\n",
       "      <th>docs42</th>\n",
       "      <th>docs43</th>\n",
       "      <th>docs44</th>\n",
       "      <th>docs45</th>\n",
       "      <th>docs46</th>\n",
       "      <th>consolidated</th>\n",
       "    </tr>\n",
       "  </thead>\n",
       "  <tbody>\n",
       "    <tr>\n",
       "      <th>no.of words</th>\n",
       "      <td>3861.0</td>\n",
       "      <td>5568.0</td>\n",
       "      <td>6018.0</td>\n",
       "      <td>7144.0</td>\n",
       "      <td>8706.0</td>\n",
       "      <td>8132.0</td>\n",
       "      <td>7479.0</td>\n",
       "      <td>6975.0</td>\n",
       "      <td>8452.0</td>\n",
       "      <td>7711.0</td>\n",
       "      <td>...</td>\n",
       "      <td>8436.0</td>\n",
       "      <td>8150.0</td>\n",
       "      <td>8268.0</td>\n",
       "      <td>7781.0</td>\n",
       "      <td>7341.0</td>\n",
       "      <td>7836.0</td>\n",
       "      <td>6878.0</td>\n",
       "      <td>6970.0</td>\n",
       "      <td>7167.0</td>\n",
       "      <td>396436.0</td>\n",
       "    </tr>\n",
       "    <tr>\n",
       "      <th>no.of pages</th>\n",
       "      <td>7.0</td>\n",
       "      <td>10.0</td>\n",
       "      <td>10.0</td>\n",
       "      <td>12.0</td>\n",
       "      <td>14.0</td>\n",
       "      <td>13.0</td>\n",
       "      <td>11.0</td>\n",
       "      <td>10.0</td>\n",
       "      <td>14.0</td>\n",
       "      <td>11.0</td>\n",
       "      <td>...</td>\n",
       "      <td>14.0</td>\n",
       "      <td>14.0</td>\n",
       "      <td>14.0</td>\n",
       "      <td>13.0</td>\n",
       "      <td>12.0</td>\n",
       "      <td>13.0</td>\n",
       "      <td>12.0</td>\n",
       "      <td>12.0</td>\n",
       "      <td>12.0</td>\n",
       "      <td>NaN</td>\n",
       "    </tr>\n",
       "    <tr>\n",
       "      <th>no.of persons</th>\n",
       "      <td>NaN</td>\n",
       "      <td>NaN</td>\n",
       "      <td>NaN</td>\n",
       "      <td>NaN</td>\n",
       "      <td>NaN</td>\n",
       "      <td>NaN</td>\n",
       "      <td>NaN</td>\n",
       "      <td>NaN</td>\n",
       "      <td>NaN</td>\n",
       "      <td>NaN</td>\n",
       "      <td>...</td>\n",
       "      <td>NaN</td>\n",
       "      <td>NaN</td>\n",
       "      <td>NaN</td>\n",
       "      <td>NaN</td>\n",
       "      <td>NaN</td>\n",
       "      <td>NaN</td>\n",
       "      <td>NaN</td>\n",
       "      <td>NaN</td>\n",
       "      <td>NaN</td>\n",
       "      <td>NaN</td>\n",
       "    </tr>\n",
       "  </tbody>\n",
       "</table>\n",
       "<p>3 rows × 47 columns</p>\n",
       "</div>"
      ],
      "text/plain": [
       "                docs1   docs2   docs3   docs4   docs5   docs6   docs7   docs8  \\\n",
       "no.of words    3861.0  5568.0  6018.0  7144.0  8706.0  8132.0  7479.0  6975.0   \n",
       "no.of pages       7.0    10.0    10.0    12.0    14.0    13.0    11.0    10.0   \n",
       "no.of persons     NaN     NaN     NaN     NaN     NaN     NaN     NaN     NaN   \n",
       "\n",
       "                docs9  docs10  ...  docs38  docs39  docs40  docs41  docs42  \\\n",
       "no.of words    8452.0  7711.0  ...  8436.0  8150.0  8268.0  7781.0  7341.0   \n",
       "no.of pages      14.0    11.0  ...    14.0    14.0    14.0    13.0    12.0   \n",
       "no.of persons     NaN     NaN  ...     NaN     NaN     NaN     NaN     NaN   \n",
       "\n",
       "               docs43  docs44  docs45  docs46  consolidated  \n",
       "no.of words    7836.0  6878.0  6970.0  7167.0      396436.0  \n",
       "no.of pages      13.0    12.0    12.0    12.0           NaN  \n",
       "no.of persons     NaN     NaN     NaN     NaN           NaN  \n",
       "\n",
       "[3 rows x 47 columns]"
      ]
     },
     "execution_count": 28,
     "metadata": {},
     "output_type": "execute_result"
    }
   ],
   "source": [
    "df"
   ]
  },
  {
   "cell_type": "markdown",
   "id": "b92b63b0",
   "metadata": {},
   "source": [
    "<h1 style=\"font-family:tahoma; color:brown; font-size: 20px\"; >  <strong> consolidated </strong> </h1>"
   ]
  },
  {
   "cell_type": "code",
   "execution_count": 29,
   "id": "0ec15517",
   "metadata": {},
   "outputs": [],
   "source": [
    "def count_pdf_pages(file_path):\n",
    "    with open(file_path, 'rb') as file:\n",
    "        reader = PyPDF2.PdfReader(file)\n",
    "        return len(reader.pages)"
   ]
  },
  {
   "cell_type": "code",
   "execution_count": 30,
   "id": "a7ca10be",
   "metadata": {},
   "outputs": [],
   "source": [
    "count = sum(df.T[\"no.of pages\"].dropna())"
   ]
  },
  {
   "cell_type": "code",
   "execution_count": 31,
   "id": "621277bd",
   "metadata": {},
   "outputs": [],
   "source": [
    "df.iloc[1,-1] = int(count)"
   ]
  },
  {
   "cell_type": "code",
   "execution_count": 32,
   "id": "bf7e800e",
   "metadata": {},
   "outputs": [
    {
     "data": {
      "text/plain": [
       "621.0"
      ]
     },
     "execution_count": 32,
     "metadata": {},
     "output_type": "execute_result"
    }
   ],
   "source": [
    "count"
   ]
  },
  {
   "cell_type": "code",
   "execution_count": 33,
   "id": "ad0761f2",
   "metadata": {},
   "outputs": [
    {
     "data": {
      "text/html": [
       "<div>\n",
       "<style scoped>\n",
       "    .dataframe tbody tr th:only-of-type {\n",
       "        vertical-align: middle;\n",
       "    }\n",
       "\n",
       "    .dataframe tbody tr th {\n",
       "        vertical-align: top;\n",
       "    }\n",
       "\n",
       "    .dataframe thead th {\n",
       "        text-align: right;\n",
       "    }\n",
       "</style>\n",
       "<table border=\"1\" class=\"dataframe\">\n",
       "  <thead>\n",
       "    <tr style=\"text-align: right;\">\n",
       "      <th></th>\n",
       "      <th>docs1</th>\n",
       "      <th>docs2</th>\n",
       "      <th>docs3</th>\n",
       "      <th>docs4</th>\n",
       "      <th>docs5</th>\n",
       "      <th>docs6</th>\n",
       "      <th>docs7</th>\n",
       "      <th>docs8</th>\n",
       "      <th>docs9</th>\n",
       "      <th>docs10</th>\n",
       "      <th>...</th>\n",
       "      <th>docs38</th>\n",
       "      <th>docs39</th>\n",
       "      <th>docs40</th>\n",
       "      <th>docs41</th>\n",
       "      <th>docs42</th>\n",
       "      <th>docs43</th>\n",
       "      <th>docs44</th>\n",
       "      <th>docs45</th>\n",
       "      <th>docs46</th>\n",
       "      <th>consolidated</th>\n",
       "    </tr>\n",
       "  </thead>\n",
       "  <tbody>\n",
       "    <tr>\n",
       "      <th>no.of words</th>\n",
       "      <td>3861.0</td>\n",
       "      <td>5568.0</td>\n",
       "      <td>6018.0</td>\n",
       "      <td>7144.0</td>\n",
       "      <td>8706.0</td>\n",
       "      <td>8132.0</td>\n",
       "      <td>7479.0</td>\n",
       "      <td>6975.0</td>\n",
       "      <td>8452.0</td>\n",
       "      <td>7711.0</td>\n",
       "      <td>...</td>\n",
       "      <td>8436.0</td>\n",
       "      <td>8150.0</td>\n",
       "      <td>8268.0</td>\n",
       "      <td>7781.0</td>\n",
       "      <td>7341.0</td>\n",
       "      <td>7836.0</td>\n",
       "      <td>6878.0</td>\n",
       "      <td>6970.0</td>\n",
       "      <td>7167.0</td>\n",
       "      <td>396436.0</td>\n",
       "    </tr>\n",
       "    <tr>\n",
       "      <th>no.of pages</th>\n",
       "      <td>7.0</td>\n",
       "      <td>10.0</td>\n",
       "      <td>10.0</td>\n",
       "      <td>12.0</td>\n",
       "      <td>14.0</td>\n",
       "      <td>13.0</td>\n",
       "      <td>11.0</td>\n",
       "      <td>10.0</td>\n",
       "      <td>14.0</td>\n",
       "      <td>11.0</td>\n",
       "      <td>...</td>\n",
       "      <td>14.0</td>\n",
       "      <td>14.0</td>\n",
       "      <td>14.0</td>\n",
       "      <td>13.0</td>\n",
       "      <td>12.0</td>\n",
       "      <td>13.0</td>\n",
       "      <td>12.0</td>\n",
       "      <td>12.0</td>\n",
       "      <td>12.0</td>\n",
       "      <td>621.0</td>\n",
       "    </tr>\n",
       "    <tr>\n",
       "      <th>no.of persons</th>\n",
       "      <td>NaN</td>\n",
       "      <td>NaN</td>\n",
       "      <td>NaN</td>\n",
       "      <td>NaN</td>\n",
       "      <td>NaN</td>\n",
       "      <td>NaN</td>\n",
       "      <td>NaN</td>\n",
       "      <td>NaN</td>\n",
       "      <td>NaN</td>\n",
       "      <td>NaN</td>\n",
       "      <td>...</td>\n",
       "      <td>NaN</td>\n",
       "      <td>NaN</td>\n",
       "      <td>NaN</td>\n",
       "      <td>NaN</td>\n",
       "      <td>NaN</td>\n",
       "      <td>NaN</td>\n",
       "      <td>NaN</td>\n",
       "      <td>NaN</td>\n",
       "      <td>NaN</td>\n",
       "      <td>NaN</td>\n",
       "    </tr>\n",
       "  </tbody>\n",
       "</table>\n",
       "<p>3 rows × 47 columns</p>\n",
       "</div>"
      ],
      "text/plain": [
       "                docs1   docs2   docs3   docs4   docs5   docs6   docs7   docs8  \\\n",
       "no.of words    3861.0  5568.0  6018.0  7144.0  8706.0  8132.0  7479.0  6975.0   \n",
       "no.of pages       7.0    10.0    10.0    12.0    14.0    13.0    11.0    10.0   \n",
       "no.of persons     NaN     NaN     NaN     NaN     NaN     NaN     NaN     NaN   \n",
       "\n",
       "                docs9  docs10  ...  docs38  docs39  docs40  docs41  docs42  \\\n",
       "no.of words    8452.0  7711.0  ...  8436.0  8150.0  8268.0  7781.0  7341.0   \n",
       "no.of pages      14.0    11.0  ...    14.0    14.0    14.0    13.0    12.0   \n",
       "no.of persons     NaN     NaN  ...     NaN     NaN     NaN     NaN     NaN   \n",
       "\n",
       "               docs43  docs44  docs45  docs46  consolidated  \n",
       "no.of words    7836.0  6878.0  6970.0  7167.0      396436.0  \n",
       "no.of pages      13.0    12.0    12.0    12.0         621.0  \n",
       "no.of persons     NaN     NaN     NaN     NaN           NaN  \n",
       "\n",
       "[3 rows x 47 columns]"
      ]
     },
     "execution_count": 33,
     "metadata": {},
     "output_type": "execute_result"
    }
   ],
   "source": [
    "df"
   ]
  },
  {
   "cell_type": "markdown",
   "id": "66eebe95",
   "metadata": {},
   "source": [
    "<h1 style=\"font-family:tahoma; color:blue; font-size: 30px\"; >  <strong> number of persons </strong> </h1>"
   ]
  },
  {
   "cell_type": "code",
   "execution_count": 34,
   "id": "b49f5125",
   "metadata": {},
   "outputs": [],
   "source": [
    "import spacy , regex as re"
   ]
  },
  {
   "cell_type": "code",
   "execution_count": 35,
   "id": "fa8db496",
   "metadata": {},
   "outputs": [],
   "source": [
    "nlp = spacy.load('en_core_web_lg')"
   ]
  },
  {
   "cell_type": "markdown",
   "id": "d7e286b0",
   "metadata": {},
   "source": [
    "<h1 style=\"font-family:tahoma; color:brown; font-size: 20px\"; >  <strong> individual docs </strong> </h1>"
   ]
  },
  {
   "cell_type": "code",
   "execution_count": 36,
   "id": "f42a92a4",
   "metadata": {},
   "outputs": [],
   "source": [
    "\n",
    "for i in range(len(docs)):\n",
    "    \n",
    "    entities = []\n",
    "            \n",
    "    ls = [(ent.text, ent.label_) for ent in ind_nlps[i].ents if ent.label_ == 'PERSON' and re.match(\"[A-Za-z.\\d-]+\",ent.text) ]\n",
    "    entities.extend(ls)\n",
    "    \n",
    "    df.iloc[2,i] = len(entities)\n",
    "    "
   ]
  },
  {
   "cell_type": "code",
   "execution_count": 37,
   "id": "5578760b",
   "metadata": {},
   "outputs": [
    {
     "data": {
      "text/html": [
       "<div>\n",
       "<style scoped>\n",
       "    .dataframe tbody tr th:only-of-type {\n",
       "        vertical-align: middle;\n",
       "    }\n",
       "\n",
       "    .dataframe tbody tr th {\n",
       "        vertical-align: top;\n",
       "    }\n",
       "\n",
       "    .dataframe thead th {\n",
       "        text-align: right;\n",
       "    }\n",
       "</style>\n",
       "<table border=\"1\" class=\"dataframe\">\n",
       "  <thead>\n",
       "    <tr style=\"text-align: right;\">\n",
       "      <th></th>\n",
       "      <th>docs1</th>\n",
       "      <th>docs2</th>\n",
       "      <th>docs3</th>\n",
       "      <th>docs4</th>\n",
       "      <th>docs5</th>\n",
       "      <th>docs6</th>\n",
       "      <th>docs7</th>\n",
       "      <th>docs8</th>\n",
       "      <th>docs9</th>\n",
       "      <th>docs10</th>\n",
       "      <th>...</th>\n",
       "      <th>docs38</th>\n",
       "      <th>docs39</th>\n",
       "      <th>docs40</th>\n",
       "      <th>docs41</th>\n",
       "      <th>docs42</th>\n",
       "      <th>docs43</th>\n",
       "      <th>docs44</th>\n",
       "      <th>docs45</th>\n",
       "      <th>docs46</th>\n",
       "      <th>consolidated</th>\n",
       "    </tr>\n",
       "  </thead>\n",
       "  <tbody>\n",
       "    <tr>\n",
       "      <th>no.of words</th>\n",
       "      <td>3861.0</td>\n",
       "      <td>5568.0</td>\n",
       "      <td>6018.0</td>\n",
       "      <td>7144.0</td>\n",
       "      <td>8706.0</td>\n",
       "      <td>8132.0</td>\n",
       "      <td>7479.0</td>\n",
       "      <td>6975.0</td>\n",
       "      <td>8452.0</td>\n",
       "      <td>7711.0</td>\n",
       "      <td>...</td>\n",
       "      <td>8436.0</td>\n",
       "      <td>8150.0</td>\n",
       "      <td>8268.0</td>\n",
       "      <td>7781.0</td>\n",
       "      <td>7341.0</td>\n",
       "      <td>7836.0</td>\n",
       "      <td>6878.0</td>\n",
       "      <td>6970.0</td>\n",
       "      <td>7167.0</td>\n",
       "      <td>396436.0</td>\n",
       "    </tr>\n",
       "    <tr>\n",
       "      <th>no.of pages</th>\n",
       "      <td>7.0</td>\n",
       "      <td>10.0</td>\n",
       "      <td>10.0</td>\n",
       "      <td>12.0</td>\n",
       "      <td>14.0</td>\n",
       "      <td>13.0</td>\n",
       "      <td>11.0</td>\n",
       "      <td>10.0</td>\n",
       "      <td>14.0</td>\n",
       "      <td>11.0</td>\n",
       "      <td>...</td>\n",
       "      <td>14.0</td>\n",
       "      <td>14.0</td>\n",
       "      <td>14.0</td>\n",
       "      <td>13.0</td>\n",
       "      <td>12.0</td>\n",
       "      <td>13.0</td>\n",
       "      <td>12.0</td>\n",
       "      <td>12.0</td>\n",
       "      <td>12.0</td>\n",
       "      <td>621.0</td>\n",
       "    </tr>\n",
       "    <tr>\n",
       "      <th>no.of persons</th>\n",
       "      <td>20.0</td>\n",
       "      <td>19.0</td>\n",
       "      <td>19.0</td>\n",
       "      <td>22.0</td>\n",
       "      <td>22.0</td>\n",
       "      <td>28.0</td>\n",
       "      <td>26.0</td>\n",
       "      <td>27.0</td>\n",
       "      <td>28.0</td>\n",
       "      <td>26.0</td>\n",
       "      <td>...</td>\n",
       "      <td>50.0</td>\n",
       "      <td>43.0</td>\n",
       "      <td>47.0</td>\n",
       "      <td>41.0</td>\n",
       "      <td>52.0</td>\n",
       "      <td>42.0</td>\n",
       "      <td>40.0</td>\n",
       "      <td>42.0</td>\n",
       "      <td>55.0</td>\n",
       "      <td>NaN</td>\n",
       "    </tr>\n",
       "  </tbody>\n",
       "</table>\n",
       "<p>3 rows × 47 columns</p>\n",
       "</div>"
      ],
      "text/plain": [
       "                docs1   docs2   docs3   docs4   docs5   docs6   docs7   docs8  \\\n",
       "no.of words    3861.0  5568.0  6018.0  7144.0  8706.0  8132.0  7479.0  6975.0   \n",
       "no.of pages       7.0    10.0    10.0    12.0    14.0    13.0    11.0    10.0   \n",
       "no.of persons    20.0    19.0    19.0    22.0    22.0    28.0    26.0    27.0   \n",
       "\n",
       "                docs9  docs10  ...  docs38  docs39  docs40  docs41  docs42  \\\n",
       "no.of words    8452.0  7711.0  ...  8436.0  8150.0  8268.0  7781.0  7341.0   \n",
       "no.of pages      14.0    11.0  ...    14.0    14.0    14.0    13.0    12.0   \n",
       "no.of persons    28.0    26.0  ...    50.0    43.0    47.0    41.0    52.0   \n",
       "\n",
       "               docs43  docs44  docs45  docs46  consolidated  \n",
       "no.of words    7836.0  6878.0  6970.0  7167.0      396436.0  \n",
       "no.of pages      13.0    12.0    12.0    12.0         621.0  \n",
       "no.of persons    42.0    40.0    42.0    55.0           NaN  \n",
       "\n",
       "[3 rows x 47 columns]"
      ]
     },
     "execution_count": 37,
     "metadata": {},
     "output_type": "execute_result"
    }
   ],
   "source": [
    "df"
   ]
  },
  {
   "cell_type": "code",
   "execution_count": null,
   "id": "8c01974e",
   "metadata": {},
   "outputs": [],
   "source": []
  },
  {
   "cell_type": "markdown",
   "id": "52913dfd",
   "metadata": {},
   "source": [
    "<h1 style=\"font-family:tahoma; color:brown; font-size: 20px\"; >  <strong> consolidated </strong> </h1>"
   ]
  },
  {
   "cell_type": "code",
   "execution_count": 38,
   "id": "8159768f",
   "metadata": {},
   "outputs": [],
   "source": [
    "all_entities = []\n",
    "\n",
    "for i in range(len(docs)):    \n",
    "            \n",
    "    ls = [(ent.text, ent.label_) for ent in ind_nlps[i].ents if ent.label_ == 'PERSON' and re.match(\"[A-Za-z.\\d-]+\",ent.text) ]\n",
    "    all_entities.extend(ls)"
   ]
  },
  {
   "cell_type": "code",
   "execution_count": 39,
   "id": "8b69c5f8",
   "metadata": {},
   "outputs": [
    {
     "data": {
      "text/plain": [
       "1564"
      ]
     },
     "execution_count": 39,
     "metadata": {},
     "output_type": "execute_result"
    }
   ],
   "source": [
    "len(all_entities)"
   ]
  },
  {
   "cell_type": "code",
   "execution_count": 40,
   "id": "8a76d54f",
   "metadata": {},
   "outputs": [],
   "source": [
    "df.iloc[2,-1] = sum(df.T[\"no.of persons\"].dropna())"
   ]
  },
  {
   "cell_type": "code",
   "execution_count": null,
   "id": "45eb500f",
   "metadata": {},
   "outputs": [],
   "source": []
  },
  {
   "cell_type": "markdown",
   "id": "c813b994",
   "metadata": {},
   "source": [
    "<h1 style=\"font-family:tahoma; color:darkblue; font-size: 35px;\" >•\t<u>NARRATIVE</u> <u>AND</u> <u>POPULARITY</u> <u>ANALYSIS</u></h1>\n",
    "\n",
    "\n",
    "<h1 style=\"font-family:tahoma; color:brown; font-size:28px;\" >\tfrequency of words </h1>"
   ]
  },
  {
   "cell_type": "code",
   "execution_count": 42,
   "id": "72129408",
   "metadata": {},
   "outputs": [],
   "source": [
    "import nltk\n",
    "from nltk.corpus import stopwords\n",
    "from collections import Counter"
   ]
  },
  {
   "cell_type": "code",
   "execution_count": 43,
   "id": "d47e1bfd",
   "metadata": {},
   "outputs": [
    {
     "data": {
      "application/javascript": [
       "\n",
       "        if (window._pyforest_update_imports_cell) { window._pyforest_update_imports_cell('import spacy\\nimport numpy as np\\nimport pandas as pd\\nimport os'); }\n",
       "    "
      ],
      "text/plain": [
       "<IPython.core.display.Javascript object>"
      ]
     },
     "metadata": {},
     "output_type": "display_data"
    },
    {
     "data": {
      "application/javascript": [
       "\n",
       "        if (window._pyforest_update_imports_cell) { window._pyforest_update_imports_cell('import spacy\\nimport numpy as np\\nimport pandas as pd\\nimport os'); }\n",
       "    "
      ],
      "text/plain": [
       "<IPython.core.display.Javascript object>"
      ]
     },
     "metadata": {},
     "output_type": "display_data"
    }
   ],
   "source": [
    "df.loc[\"most_frequent_word\",:] , df.loc[\"no.of occurances\",:] = np.nan , np.nan"
   ]
  },
  {
   "cell_type": "markdown",
   "id": "888ebb87",
   "metadata": {},
   "source": [
    "<h1 style=\"font-family:tahoma; color:blue; font-size:20px;\" > individual docs </h1>"
   ]
  },
  {
   "cell_type": "code",
   "execution_count": 51,
   "id": "c9b99364",
   "metadata": {},
   "outputs": [],
   "source": [
    "con_pre_adv = [\n",
    "    # Conjunctions\n",
    "    'and', 'but', 'or', 'nor', 'for', 'yet', 'so', 'either...or', 'neither...nor',\n",
    "    'not only...but also', 'although', 'because', 'since', 'unless', 'while', 'if',\n",
    "    'though', 'as', 'before', 'after', 'when', 'whenever', 'where', 'wherever', 'until',\n",
    "    'whereas', 'provided that', 'in case', 'supposing', 'given that', 'insofar as',\n",
    "\n",
    "    # Prepositions\n",
    "    'about', 'above', 'across', 'after', 'against', 'along', 'among', 'around', 'as', 'at',\n",
    "    'before', 'behind', 'below', 'beneath', 'beside', 'between', 'beyond', 'by', 'despite',\n",
    "    'down', 'during', 'except', 'for', 'from', 'in', 'inside', 'into', 'like', 'near',\n",
    "    'of', 'off', 'on', 'onto', 'out', 'outside', 'over', 'past', 'since', 'through',\n",
    "    'throughout', 'till', 'to', 'toward', 'under', 'underneath', 'until', 'up', 'upon',\n",
    "    'with', 'within', 'without', 'amid', 'amongst', 'besides', 'beyond', 'down', 'upon',\n",
    "    'off', 'over', 'towards', 'alongside', 'behind', 'nearby', 'against',\n",
    "\n",
    "    # Adverbs\n",
    "    'very', 'too', 'quite', 'almost', 'rather', 'fairly', 'much', 'just', 'soon', 'often',\n",
    "    'never', 'always', 'sometimes', 'usually', 'seldom', 'rarely', 'generally', 'really',\n",
    "    'truly', 'surely', 'certainly', 'probably', 'perhaps', 'possibly', 'actually',\n",
    "    'obviously', 'apparently', 'certainly', 'definitely', 'usually', 'quickly', 'slowly',\n",
    "    'carefully', 'easily', 'happily', 'sadly', 'loudly', 'softly', 'badly', 'well', 'better',\n",
    "    'best', 'worse', 'worst', 'so', 'very', 'however', 'nevertheless', 'moreover', 'therefore',\n",
    "    'also', 'barely', 'extremely', 'incredibly', 'particularly', 'strangely', 'surprisingly',\n",
    "    'frequently', 'occasionally', 'gradually', 'ultimately', 'eventually', 'likely', 'nearly'\n",
    "]\n"
   ]
  },
  {
   "cell_type": "code",
   "execution_count": 52,
   "id": "f32917f6",
   "metadata": {},
   "outputs": [],
   "source": [
    "all_words = []\n",
    "\n",
    "for i,j in enumerate(ind_nlps):\n",
    "            \n",
    "    words = [k.text for k in j if k.text.lower() not in nltk.corpus.stopwords.words(\"english\") \n",
    "                                  and re.match(\"[A-Za-z\\.-]+\",k.text) \n",
    "                                  and not re.match('[\\W\\d]+',k.text)\n",
    "                                  and k.text not in con_pre_adv\n",
    "                                  and len(k.text)>2 \n",
    "                                                     ]\n",
    "    \n",
    "    \n",
    "    all_words.extend(words)\n",
    "    \n",
    "    c_o_w = dict(Counter(words))\n",
    "    m_r_w = sorted(c_o_w.items(),key = lambda x : x[1] , reverse = True)[0]\n",
    "    \n",
    "    \n",
    "    \n",
    "    df.iloc[3,i] , df.iloc[4,i] = m_r_w[0] , m_r_w[1]\n",
    "    "
   ]
  },
  {
   "cell_type": "code",
   "execution_count": 45,
   "id": "d4cb2023",
   "metadata": {
    "collapsed": true
   },
   "outputs": [
    {
     "data": {
      "text/html": [
       "<div>\n",
       "<style scoped>\n",
       "    .dataframe tbody tr th:only-of-type {\n",
       "        vertical-align: middle;\n",
       "    }\n",
       "\n",
       "    .dataframe tbody tr th {\n",
       "        vertical-align: top;\n",
       "    }\n",
       "\n",
       "    .dataframe thead th {\n",
       "        text-align: right;\n",
       "    }\n",
       "</style>\n",
       "<table border=\"1\" class=\"dataframe\">\n",
       "  <thead>\n",
       "    <tr style=\"text-align: right;\">\n",
       "      <th></th>\n",
       "      <th>no.of words</th>\n",
       "      <th>no.of pages</th>\n",
       "      <th>no.of persons</th>\n",
       "      <th>most_frequent_word</th>\n",
       "      <th>no.of occurances</th>\n",
       "    </tr>\n",
       "  </thead>\n",
       "  <tbody>\n",
       "    <tr>\n",
       "      <th>docs1</th>\n",
       "      <td>3861.0</td>\n",
       "      <td>7.0</td>\n",
       "      <td>20.0</td>\n",
       "      <td>inflation</td>\n",
       "      <td>47</td>\n",
       "    </tr>\n",
       "    <tr>\n",
       "      <th>docs2</th>\n",
       "      <td>5568.0</td>\n",
       "      <td>10.0</td>\n",
       "      <td>19.0</td>\n",
       "      <td>inflation</td>\n",
       "      <td>48</td>\n",
       "    </tr>\n",
       "    <tr>\n",
       "      <th>docs3</th>\n",
       "      <td>6018.0</td>\n",
       "      <td>10.0</td>\n",
       "      <td>19.0</td>\n",
       "      <td>inflation</td>\n",
       "      <td>63</td>\n",
       "    </tr>\n",
       "    <tr>\n",
       "      <th>docs4</th>\n",
       "      <td>7144.0</td>\n",
       "      <td>12.0</td>\n",
       "      <td>22.0</td>\n",
       "      <td>inflation</td>\n",
       "      <td>83</td>\n",
       "    </tr>\n",
       "    <tr>\n",
       "      <th>docs5</th>\n",
       "      <td>8706.0</td>\n",
       "      <td>14.0</td>\n",
       "      <td>22.0</td>\n",
       "      <td>inflation</td>\n",
       "      <td>78</td>\n",
       "    </tr>\n",
       "    <tr>\n",
       "      <th>docs6</th>\n",
       "      <td>8132.0</td>\n",
       "      <td>13.0</td>\n",
       "      <td>28.0</td>\n",
       "      <td>inflation</td>\n",
       "      <td>82</td>\n",
       "    </tr>\n",
       "    <tr>\n",
       "      <th>docs7</th>\n",
       "      <td>7479.0</td>\n",
       "      <td>11.0</td>\n",
       "      <td>26.0</td>\n",
       "      <td>inflation</td>\n",
       "      <td>70</td>\n",
       "    </tr>\n",
       "    <tr>\n",
       "      <th>docs8</th>\n",
       "      <td>6975.0</td>\n",
       "      <td>10.0</td>\n",
       "      <td>27.0</td>\n",
       "      <td>inflation</td>\n",
       "      <td>88</td>\n",
       "    </tr>\n",
       "    <tr>\n",
       "      <th>docs9</th>\n",
       "      <td>8452.0</td>\n",
       "      <td>14.0</td>\n",
       "      <td>28.0</td>\n",
       "      <td>inflation</td>\n",
       "      <td>105</td>\n",
       "    </tr>\n",
       "    <tr>\n",
       "      <th>docs10</th>\n",
       "      <td>7711.0</td>\n",
       "      <td>11.0</td>\n",
       "      <td>26.0</td>\n",
       "      <td>inflation</td>\n",
       "      <td>96</td>\n",
       "    </tr>\n",
       "    <tr>\n",
       "      <th>docs11</th>\n",
       "      <td>8276.0</td>\n",
       "      <td>12.0</td>\n",
       "      <td>31.0</td>\n",
       "      <td>inflation</td>\n",
       "      <td>117</td>\n",
       "    </tr>\n",
       "    <tr>\n",
       "      <th>docs12</th>\n",
       "      <td>8553.0</td>\n",
       "      <td>13.0</td>\n",
       "      <td>33.0</td>\n",
       "      <td>inflation</td>\n",
       "      <td>108</td>\n",
       "    </tr>\n",
       "    <tr>\n",
       "      <th>docs13</th>\n",
       "      <td>8790.0</td>\n",
       "      <td>14.0</td>\n",
       "      <td>20.0</td>\n",
       "      <td>inflation</td>\n",
       "      <td>107</td>\n",
       "    </tr>\n",
       "    <tr>\n",
       "      <th>docs14</th>\n",
       "      <td>10319.0</td>\n",
       "      <td>16.0</td>\n",
       "      <td>28.0</td>\n",
       "      <td>inflation</td>\n",
       "      <td>122</td>\n",
       "    </tr>\n",
       "    <tr>\n",
       "      <th>docs15</th>\n",
       "      <td>10346.0</td>\n",
       "      <td>16.0</td>\n",
       "      <td>31.0</td>\n",
       "      <td>inflation</td>\n",
       "      <td>115</td>\n",
       "    </tr>\n",
       "    <tr>\n",
       "      <th>docs16</th>\n",
       "      <td>11422.0</td>\n",
       "      <td>17.0</td>\n",
       "      <td>40.0</td>\n",
       "      <td>inflation</td>\n",
       "      <td>113</td>\n",
       "    </tr>\n",
       "    <tr>\n",
       "      <th>docs17</th>\n",
       "      <td>9346.0</td>\n",
       "      <td>14.0</td>\n",
       "      <td>27.0</td>\n",
       "      <td>inflation</td>\n",
       "      <td>87</td>\n",
       "    </tr>\n",
       "    <tr>\n",
       "      <th>docs18</th>\n",
       "      <td>10208.0</td>\n",
       "      <td>14.0</td>\n",
       "      <td>29.0</td>\n",
       "      <td>inflation</td>\n",
       "      <td>81</td>\n",
       "    </tr>\n",
       "    <tr>\n",
       "      <th>docs19</th>\n",
       "      <td>10673.0</td>\n",
       "      <td>15.0</td>\n",
       "      <td>29.0</td>\n",
       "      <td>growth</td>\n",
       "      <td>92</td>\n",
       "    </tr>\n",
       "    <tr>\n",
       "      <th>docs20</th>\n",
       "      <td>11469.0</td>\n",
       "      <td>18.0</td>\n",
       "      <td>26.0</td>\n",
       "      <td>inflation</td>\n",
       "      <td>119</td>\n",
       "    </tr>\n",
       "    <tr>\n",
       "      <th>docs21</th>\n",
       "      <td>8826.0</td>\n",
       "      <td>14.0</td>\n",
       "      <td>31.0</td>\n",
       "      <td>policy</td>\n",
       "      <td>59</td>\n",
       "    </tr>\n",
       "    <tr>\n",
       "      <th>docs22</th>\n",
       "      <td>9895.0</td>\n",
       "      <td>15.0</td>\n",
       "      <td>30.0</td>\n",
       "      <td>inflation</td>\n",
       "      <td>69</td>\n",
       "    </tr>\n",
       "    <tr>\n",
       "      <th>docs23</th>\n",
       "      <td>11297.0</td>\n",
       "      <td>15.0</td>\n",
       "      <td>34.0</td>\n",
       "      <td>inflation</td>\n",
       "      <td>123</td>\n",
       "    </tr>\n",
       "    <tr>\n",
       "      <th>docs24</th>\n",
       "      <td>9263.0</td>\n",
       "      <td>15.0</td>\n",
       "      <td>44.0</td>\n",
       "      <td>inflation</td>\n",
       "      <td>96</td>\n",
       "    </tr>\n",
       "    <tr>\n",
       "      <th>docs25</th>\n",
       "      <td>10533.0</td>\n",
       "      <td>16.0</td>\n",
       "      <td>31.0</td>\n",
       "      <td>inflation</td>\n",
       "      <td>99</td>\n",
       "    </tr>\n",
       "    <tr>\n",
       "      <th>docs26</th>\n",
       "      <td>8800.0</td>\n",
       "      <td>14.0</td>\n",
       "      <td>33.0</td>\n",
       "      <td>inflation</td>\n",
       "      <td>82</td>\n",
       "    </tr>\n",
       "    <tr>\n",
       "      <th>docs27</th>\n",
       "      <td>8606.0</td>\n",
       "      <td>13.0</td>\n",
       "      <td>33.0</td>\n",
       "      <td>percent</td>\n",
       "      <td>71</td>\n",
       "    </tr>\n",
       "    <tr>\n",
       "      <th>docs28</th>\n",
       "      <td>8239.0</td>\n",
       "      <td>13.0</td>\n",
       "      <td>31.0</td>\n",
       "      <td>inflation</td>\n",
       "      <td>70</td>\n",
       "    </tr>\n",
       "    <tr>\n",
       "      <th>docs29</th>\n",
       "      <td>10213.0</td>\n",
       "      <td>16.0</td>\n",
       "      <td>43.0</td>\n",
       "      <td>inflation</td>\n",
       "      <td>120</td>\n",
       "    </tr>\n",
       "    <tr>\n",
       "      <th>docs30</th>\n",
       "      <td>10046.0</td>\n",
       "      <td>15.0</td>\n",
       "      <td>37.0</td>\n",
       "      <td>inflation</td>\n",
       "      <td>94</td>\n",
       "    </tr>\n",
       "    <tr>\n",
       "      <th>docs31</th>\n",
       "      <td>9564.0</td>\n",
       "      <td>14.0</td>\n",
       "      <td>44.0</td>\n",
       "      <td>inflation</td>\n",
       "      <td>89</td>\n",
       "    </tr>\n",
       "    <tr>\n",
       "      <th>docs32</th>\n",
       "      <td>9684.0</td>\n",
       "      <td>15.0</td>\n",
       "      <td>38.0</td>\n",
       "      <td>inflation</td>\n",
       "      <td>100</td>\n",
       "    </tr>\n",
       "    <tr>\n",
       "      <th>docs33</th>\n",
       "      <td>9253.0</td>\n",
       "      <td>15.0</td>\n",
       "      <td>33.0</td>\n",
       "      <td>inflation</td>\n",
       "      <td>99</td>\n",
       "    </tr>\n",
       "    <tr>\n",
       "      <th>docs34</th>\n",
       "      <td>6739.0</td>\n",
       "      <td>11.0</td>\n",
       "      <td>33.0</td>\n",
       "      <td>inflation</td>\n",
       "      <td>87</td>\n",
       "    </tr>\n",
       "    <tr>\n",
       "      <th>docs35</th>\n",
       "      <td>8729.0</td>\n",
       "      <td>14.0</td>\n",
       "      <td>37.0</td>\n",
       "      <td>inflation</td>\n",
       "      <td>130</td>\n",
       "    </tr>\n",
       "    <tr>\n",
       "      <th>docs36</th>\n",
       "      <td>9370.0</td>\n",
       "      <td>14.0</td>\n",
       "      <td>46.0</td>\n",
       "      <td>inflation</td>\n",
       "      <td>120</td>\n",
       "    </tr>\n",
       "    <tr>\n",
       "      <th>docs37</th>\n",
       "      <td>9104.0</td>\n",
       "      <td>15.0</td>\n",
       "      <td>43.0</td>\n",
       "      <td>inflation</td>\n",
       "      <td>102</td>\n",
       "    </tr>\n",
       "    <tr>\n",
       "      <th>docs38</th>\n",
       "      <td>8436.0</td>\n",
       "      <td>14.0</td>\n",
       "      <td>50.0</td>\n",
       "      <td>inflation</td>\n",
       "      <td>110</td>\n",
       "    </tr>\n",
       "    <tr>\n",
       "      <th>docs39</th>\n",
       "      <td>8150.0</td>\n",
       "      <td>14.0</td>\n",
       "      <td>43.0</td>\n",
       "      <td>inflation</td>\n",
       "      <td>130</td>\n",
       "    </tr>\n",
       "    <tr>\n",
       "      <th>docs40</th>\n",
       "      <td>8268.0</td>\n",
       "      <td>14.0</td>\n",
       "      <td>47.0</td>\n",
       "      <td>inflation</td>\n",
       "      <td>101</td>\n",
       "    </tr>\n",
       "    <tr>\n",
       "      <th>docs41</th>\n",
       "      <td>7781.0</td>\n",
       "      <td>13.0</td>\n",
       "      <td>41.0</td>\n",
       "      <td>inflation</td>\n",
       "      <td>98</td>\n",
       "    </tr>\n",
       "    <tr>\n",
       "      <th>docs42</th>\n",
       "      <td>7341.0</td>\n",
       "      <td>12.0</td>\n",
       "      <td>52.0</td>\n",
       "      <td>inflation</td>\n",
       "      <td>90</td>\n",
       "    </tr>\n",
       "    <tr>\n",
       "      <th>docs43</th>\n",
       "      <td>7836.0</td>\n",
       "      <td>13.0</td>\n",
       "      <td>42.0</td>\n",
       "      <td>inflation</td>\n",
       "      <td>90</td>\n",
       "    </tr>\n",
       "    <tr>\n",
       "      <th>docs44</th>\n",
       "      <td>6878.0</td>\n",
       "      <td>12.0</td>\n",
       "      <td>40.0</td>\n",
       "      <td>inflation</td>\n",
       "      <td>98</td>\n",
       "    </tr>\n",
       "    <tr>\n",
       "      <th>docs45</th>\n",
       "      <td>6970.0</td>\n",
       "      <td>12.0</td>\n",
       "      <td>42.0</td>\n",
       "      <td>inflation</td>\n",
       "      <td>98</td>\n",
       "    </tr>\n",
       "    <tr>\n",
       "      <th>docs46</th>\n",
       "      <td>7167.0</td>\n",
       "      <td>12.0</td>\n",
       "      <td>55.0</td>\n",
       "      <td>inflation</td>\n",
       "      <td>116</td>\n",
       "    </tr>\n",
       "    <tr>\n",
       "      <th>consolidated</th>\n",
       "      <td>396436.0</td>\n",
       "      <td>621.0</td>\n",
       "      <td>1564.0</td>\n",
       "      <td>NaN</td>\n",
       "      <td>NaN</td>\n",
       "    </tr>\n",
       "  </tbody>\n",
       "</table>\n",
       "</div>"
      ],
      "text/plain": [
       "             no.of words no.of pages no.of persons most_frequent_word  \\\n",
       "docs1             3861.0         7.0          20.0          inflation   \n",
       "docs2             5568.0        10.0          19.0          inflation   \n",
       "docs3             6018.0        10.0          19.0          inflation   \n",
       "docs4             7144.0        12.0          22.0          inflation   \n",
       "docs5             8706.0        14.0          22.0          inflation   \n",
       "docs6             8132.0        13.0          28.0          inflation   \n",
       "docs7             7479.0        11.0          26.0          inflation   \n",
       "docs8             6975.0        10.0          27.0          inflation   \n",
       "docs9             8452.0        14.0          28.0          inflation   \n",
       "docs10            7711.0        11.0          26.0          inflation   \n",
       "docs11            8276.0        12.0          31.0          inflation   \n",
       "docs12            8553.0        13.0          33.0          inflation   \n",
       "docs13            8790.0        14.0          20.0          inflation   \n",
       "docs14           10319.0        16.0          28.0          inflation   \n",
       "docs15           10346.0        16.0          31.0          inflation   \n",
       "docs16           11422.0        17.0          40.0          inflation   \n",
       "docs17            9346.0        14.0          27.0          inflation   \n",
       "docs18           10208.0        14.0          29.0          inflation   \n",
       "docs19           10673.0        15.0          29.0             growth   \n",
       "docs20           11469.0        18.0          26.0          inflation   \n",
       "docs21            8826.0        14.0          31.0             policy   \n",
       "docs22            9895.0        15.0          30.0          inflation   \n",
       "docs23           11297.0        15.0          34.0          inflation   \n",
       "docs24            9263.0        15.0          44.0          inflation   \n",
       "docs25           10533.0        16.0          31.0          inflation   \n",
       "docs26            8800.0        14.0          33.0          inflation   \n",
       "docs27            8606.0        13.0          33.0            percent   \n",
       "docs28            8239.0        13.0          31.0          inflation   \n",
       "docs29           10213.0        16.0          43.0          inflation   \n",
       "docs30           10046.0        15.0          37.0          inflation   \n",
       "docs31            9564.0        14.0          44.0          inflation   \n",
       "docs32            9684.0        15.0          38.0          inflation   \n",
       "docs33            9253.0        15.0          33.0          inflation   \n",
       "docs34            6739.0        11.0          33.0          inflation   \n",
       "docs35            8729.0        14.0          37.0          inflation   \n",
       "docs36            9370.0        14.0          46.0          inflation   \n",
       "docs37            9104.0        15.0          43.0          inflation   \n",
       "docs38            8436.0        14.0          50.0          inflation   \n",
       "docs39            8150.0        14.0          43.0          inflation   \n",
       "docs40            8268.0        14.0          47.0          inflation   \n",
       "docs41            7781.0        13.0          41.0          inflation   \n",
       "docs42            7341.0        12.0          52.0          inflation   \n",
       "docs43            7836.0        13.0          42.0          inflation   \n",
       "docs44            6878.0        12.0          40.0          inflation   \n",
       "docs45            6970.0        12.0          42.0          inflation   \n",
       "docs46            7167.0        12.0          55.0          inflation   \n",
       "consolidated    396436.0       621.0        1564.0                NaN   \n",
       "\n",
       "             no.of occurances  \n",
       "docs1                      47  \n",
       "docs2                      48  \n",
       "docs3                      63  \n",
       "docs4                      83  \n",
       "docs5                      78  \n",
       "docs6                      82  \n",
       "docs7                      70  \n",
       "docs8                      88  \n",
       "docs9                     105  \n",
       "docs10                     96  \n",
       "docs11                    117  \n",
       "docs12                    108  \n",
       "docs13                    107  \n",
       "docs14                    122  \n",
       "docs15                    115  \n",
       "docs16                    113  \n",
       "docs17                     87  \n",
       "docs18                     81  \n",
       "docs19                     92  \n",
       "docs20                    119  \n",
       "docs21                     59  \n",
       "docs22                     69  \n",
       "docs23                    123  \n",
       "docs24                     96  \n",
       "docs25                     99  \n",
       "docs26                     82  \n",
       "docs27                     71  \n",
       "docs28                     70  \n",
       "docs29                    120  \n",
       "docs30                     94  \n",
       "docs31                     89  \n",
       "docs32                    100  \n",
       "docs33                     99  \n",
       "docs34                     87  \n",
       "docs35                    130  \n",
       "docs36                    120  \n",
       "docs37                    102  \n",
       "docs38                    110  \n",
       "docs39                    130  \n",
       "docs40                    101  \n",
       "docs41                     98  \n",
       "docs42                     90  \n",
       "docs43                     90  \n",
       "docs44                     98  \n",
       "docs45                     98  \n",
       "docs46                    116  \n",
       "consolidated              NaN  "
      ]
     },
     "execution_count": 45,
     "metadata": {},
     "output_type": "execute_result"
    }
   ],
   "source": [
    "df.T"
   ]
  },
  {
   "cell_type": "code",
   "execution_count": null,
   "id": "5815c156",
   "metadata": {},
   "outputs": [],
   "source": []
  },
  {
   "cell_type": "markdown",
   "id": "92e18fff",
   "metadata": {},
   "source": [
    "<h1 style=\"font-family:tahoma; color:blue; font-size:20px;\" > consolidated </h1>"
   ]
  },
  {
   "cell_type": "code",
   "execution_count": 58,
   "id": "327b54ba",
   "metadata": {},
   "outputs": [],
   "source": [
    "count_of_words = dict(Counter(all_words))\n",
    "count_of_words"
   ]
  },
  {
   "cell_type": "code",
   "execution_count": 54,
   "id": "8346eba9",
   "metadata": {},
   "outputs": [
    {
     "data": {
      "text/plain": [
       "('inflation', 4329)"
      ]
     },
     "execution_count": 54,
     "metadata": {},
     "output_type": "execute_result"
    }
   ],
   "source": [
    "most_frequent_word = sorted(count_of_words.items(),key = lambda x : x[1],reverse=True)[0]\n",
    "most_frequent_word"
   ]
  },
  {
   "cell_type": "code",
   "execution_count": 55,
   "id": "32e8451e",
   "metadata": {},
   "outputs": [],
   "source": [
    "df.loc[\"most_frequent_word\",\"consolidated\"] , df.loc[\"no.of occurances\",\"consolidated\"] = most_frequent_word[0] , most_frequent_word[1]"
   ]
  },
  {
   "cell_type": "code",
   "execution_count": 56,
   "id": "c7ed6625",
   "metadata": {
    "collapsed": true
   },
   "outputs": [
    {
     "data": {
      "text/html": [
       "<div>\n",
       "<style scoped>\n",
       "    .dataframe tbody tr th:only-of-type {\n",
       "        vertical-align: middle;\n",
       "    }\n",
       "\n",
       "    .dataframe tbody tr th {\n",
       "        vertical-align: top;\n",
       "    }\n",
       "\n",
       "    .dataframe thead th {\n",
       "        text-align: right;\n",
       "    }\n",
       "</style>\n",
       "<table border=\"1\" class=\"dataframe\">\n",
       "  <thead>\n",
       "    <tr style=\"text-align: right;\">\n",
       "      <th></th>\n",
       "      <th>no.of words</th>\n",
       "      <th>no.of pages</th>\n",
       "      <th>no.of persons</th>\n",
       "      <th>most_frequent_word</th>\n",
       "      <th>no.of occurances</th>\n",
       "    </tr>\n",
       "  </thead>\n",
       "  <tbody>\n",
       "    <tr>\n",
       "      <th>docs1</th>\n",
       "      <td>3861.0</td>\n",
       "      <td>7.0</td>\n",
       "      <td>20.0</td>\n",
       "      <td>inflation</td>\n",
       "      <td>47</td>\n",
       "    </tr>\n",
       "    <tr>\n",
       "      <th>docs2</th>\n",
       "      <td>5568.0</td>\n",
       "      <td>10.0</td>\n",
       "      <td>19.0</td>\n",
       "      <td>inflation</td>\n",
       "      <td>48</td>\n",
       "    </tr>\n",
       "    <tr>\n",
       "      <th>docs3</th>\n",
       "      <td>6018.0</td>\n",
       "      <td>10.0</td>\n",
       "      <td>19.0</td>\n",
       "      <td>inflation</td>\n",
       "      <td>63</td>\n",
       "    </tr>\n",
       "    <tr>\n",
       "      <th>docs4</th>\n",
       "      <td>7144.0</td>\n",
       "      <td>12.0</td>\n",
       "      <td>22.0</td>\n",
       "      <td>inflation</td>\n",
       "      <td>83</td>\n",
       "    </tr>\n",
       "    <tr>\n",
       "      <th>docs5</th>\n",
       "      <td>8706.0</td>\n",
       "      <td>14.0</td>\n",
       "      <td>22.0</td>\n",
       "      <td>inflation</td>\n",
       "      <td>78</td>\n",
       "    </tr>\n",
       "    <tr>\n",
       "      <th>docs6</th>\n",
       "      <td>8132.0</td>\n",
       "      <td>13.0</td>\n",
       "      <td>28.0</td>\n",
       "      <td>inflation</td>\n",
       "      <td>82</td>\n",
       "    </tr>\n",
       "    <tr>\n",
       "      <th>docs7</th>\n",
       "      <td>7479.0</td>\n",
       "      <td>11.0</td>\n",
       "      <td>26.0</td>\n",
       "      <td>inflation</td>\n",
       "      <td>70</td>\n",
       "    </tr>\n",
       "    <tr>\n",
       "      <th>docs8</th>\n",
       "      <td>6975.0</td>\n",
       "      <td>10.0</td>\n",
       "      <td>27.0</td>\n",
       "      <td>inflation</td>\n",
       "      <td>88</td>\n",
       "    </tr>\n",
       "    <tr>\n",
       "      <th>docs9</th>\n",
       "      <td>8452.0</td>\n",
       "      <td>14.0</td>\n",
       "      <td>28.0</td>\n",
       "      <td>inflation</td>\n",
       "      <td>105</td>\n",
       "    </tr>\n",
       "    <tr>\n",
       "      <th>docs10</th>\n",
       "      <td>7711.0</td>\n",
       "      <td>11.0</td>\n",
       "      <td>26.0</td>\n",
       "      <td>inflation</td>\n",
       "      <td>96</td>\n",
       "    </tr>\n",
       "    <tr>\n",
       "      <th>docs11</th>\n",
       "      <td>8276.0</td>\n",
       "      <td>12.0</td>\n",
       "      <td>31.0</td>\n",
       "      <td>inflation</td>\n",
       "      <td>117</td>\n",
       "    </tr>\n",
       "    <tr>\n",
       "      <th>docs12</th>\n",
       "      <td>8553.0</td>\n",
       "      <td>13.0</td>\n",
       "      <td>33.0</td>\n",
       "      <td>inflation</td>\n",
       "      <td>108</td>\n",
       "    </tr>\n",
       "    <tr>\n",
       "      <th>docs13</th>\n",
       "      <td>8790.0</td>\n",
       "      <td>14.0</td>\n",
       "      <td>20.0</td>\n",
       "      <td>inflation</td>\n",
       "      <td>107</td>\n",
       "    </tr>\n",
       "    <tr>\n",
       "      <th>docs14</th>\n",
       "      <td>10319.0</td>\n",
       "      <td>16.0</td>\n",
       "      <td>28.0</td>\n",
       "      <td>inflation</td>\n",
       "      <td>122</td>\n",
       "    </tr>\n",
       "    <tr>\n",
       "      <th>docs15</th>\n",
       "      <td>10346.0</td>\n",
       "      <td>16.0</td>\n",
       "      <td>31.0</td>\n",
       "      <td>inflation</td>\n",
       "      <td>115</td>\n",
       "    </tr>\n",
       "    <tr>\n",
       "      <th>docs16</th>\n",
       "      <td>11422.0</td>\n",
       "      <td>17.0</td>\n",
       "      <td>40.0</td>\n",
       "      <td>inflation</td>\n",
       "      <td>113</td>\n",
       "    </tr>\n",
       "    <tr>\n",
       "      <th>docs17</th>\n",
       "      <td>9346.0</td>\n",
       "      <td>14.0</td>\n",
       "      <td>27.0</td>\n",
       "      <td>inflation</td>\n",
       "      <td>87</td>\n",
       "    </tr>\n",
       "    <tr>\n",
       "      <th>docs18</th>\n",
       "      <td>10208.0</td>\n",
       "      <td>14.0</td>\n",
       "      <td>29.0</td>\n",
       "      <td>inflation</td>\n",
       "      <td>81</td>\n",
       "    </tr>\n",
       "    <tr>\n",
       "      <th>docs19</th>\n",
       "      <td>10673.0</td>\n",
       "      <td>15.0</td>\n",
       "      <td>29.0</td>\n",
       "      <td>growth</td>\n",
       "      <td>92</td>\n",
       "    </tr>\n",
       "    <tr>\n",
       "      <th>docs20</th>\n",
       "      <td>11469.0</td>\n",
       "      <td>18.0</td>\n",
       "      <td>26.0</td>\n",
       "      <td>inflation</td>\n",
       "      <td>119</td>\n",
       "    </tr>\n",
       "    <tr>\n",
       "      <th>docs21</th>\n",
       "      <td>8826.0</td>\n",
       "      <td>14.0</td>\n",
       "      <td>31.0</td>\n",
       "      <td>policy</td>\n",
       "      <td>59</td>\n",
       "    </tr>\n",
       "    <tr>\n",
       "      <th>docs22</th>\n",
       "      <td>9895.0</td>\n",
       "      <td>15.0</td>\n",
       "      <td>30.0</td>\n",
       "      <td>inflation</td>\n",
       "      <td>69</td>\n",
       "    </tr>\n",
       "    <tr>\n",
       "      <th>docs23</th>\n",
       "      <td>11297.0</td>\n",
       "      <td>15.0</td>\n",
       "      <td>34.0</td>\n",
       "      <td>inflation</td>\n",
       "      <td>123</td>\n",
       "    </tr>\n",
       "    <tr>\n",
       "      <th>docs24</th>\n",
       "      <td>9263.0</td>\n",
       "      <td>15.0</td>\n",
       "      <td>44.0</td>\n",
       "      <td>inflation</td>\n",
       "      <td>96</td>\n",
       "    </tr>\n",
       "    <tr>\n",
       "      <th>docs25</th>\n",
       "      <td>10533.0</td>\n",
       "      <td>16.0</td>\n",
       "      <td>31.0</td>\n",
       "      <td>inflation</td>\n",
       "      <td>99</td>\n",
       "    </tr>\n",
       "    <tr>\n",
       "      <th>docs26</th>\n",
       "      <td>8800.0</td>\n",
       "      <td>14.0</td>\n",
       "      <td>33.0</td>\n",
       "      <td>inflation</td>\n",
       "      <td>82</td>\n",
       "    </tr>\n",
       "    <tr>\n",
       "      <th>docs27</th>\n",
       "      <td>8606.0</td>\n",
       "      <td>13.0</td>\n",
       "      <td>33.0</td>\n",
       "      <td>percent</td>\n",
       "      <td>71</td>\n",
       "    </tr>\n",
       "    <tr>\n",
       "      <th>docs28</th>\n",
       "      <td>8239.0</td>\n",
       "      <td>13.0</td>\n",
       "      <td>31.0</td>\n",
       "      <td>inflation</td>\n",
       "      <td>70</td>\n",
       "    </tr>\n",
       "    <tr>\n",
       "      <th>docs29</th>\n",
       "      <td>10213.0</td>\n",
       "      <td>16.0</td>\n",
       "      <td>43.0</td>\n",
       "      <td>inflation</td>\n",
       "      <td>120</td>\n",
       "    </tr>\n",
       "    <tr>\n",
       "      <th>docs30</th>\n",
       "      <td>10046.0</td>\n",
       "      <td>15.0</td>\n",
       "      <td>37.0</td>\n",
       "      <td>inflation</td>\n",
       "      <td>94</td>\n",
       "    </tr>\n",
       "    <tr>\n",
       "      <th>docs31</th>\n",
       "      <td>9564.0</td>\n",
       "      <td>14.0</td>\n",
       "      <td>44.0</td>\n",
       "      <td>inflation</td>\n",
       "      <td>89</td>\n",
       "    </tr>\n",
       "    <tr>\n",
       "      <th>docs32</th>\n",
       "      <td>9684.0</td>\n",
       "      <td>15.0</td>\n",
       "      <td>38.0</td>\n",
       "      <td>inflation</td>\n",
       "      <td>100</td>\n",
       "    </tr>\n",
       "    <tr>\n",
       "      <th>docs33</th>\n",
       "      <td>9253.0</td>\n",
       "      <td>15.0</td>\n",
       "      <td>33.0</td>\n",
       "      <td>inflation</td>\n",
       "      <td>99</td>\n",
       "    </tr>\n",
       "    <tr>\n",
       "      <th>docs34</th>\n",
       "      <td>6739.0</td>\n",
       "      <td>11.0</td>\n",
       "      <td>33.0</td>\n",
       "      <td>inflation</td>\n",
       "      <td>87</td>\n",
       "    </tr>\n",
       "    <tr>\n",
       "      <th>docs35</th>\n",
       "      <td>8729.0</td>\n",
       "      <td>14.0</td>\n",
       "      <td>37.0</td>\n",
       "      <td>inflation</td>\n",
       "      <td>130</td>\n",
       "    </tr>\n",
       "    <tr>\n",
       "      <th>docs36</th>\n",
       "      <td>9370.0</td>\n",
       "      <td>14.0</td>\n",
       "      <td>46.0</td>\n",
       "      <td>inflation</td>\n",
       "      <td>120</td>\n",
       "    </tr>\n",
       "    <tr>\n",
       "      <th>docs37</th>\n",
       "      <td>9104.0</td>\n",
       "      <td>15.0</td>\n",
       "      <td>43.0</td>\n",
       "      <td>inflation</td>\n",
       "      <td>102</td>\n",
       "    </tr>\n",
       "    <tr>\n",
       "      <th>docs38</th>\n",
       "      <td>8436.0</td>\n",
       "      <td>14.0</td>\n",
       "      <td>50.0</td>\n",
       "      <td>inflation</td>\n",
       "      <td>110</td>\n",
       "    </tr>\n",
       "    <tr>\n",
       "      <th>docs39</th>\n",
       "      <td>8150.0</td>\n",
       "      <td>14.0</td>\n",
       "      <td>43.0</td>\n",
       "      <td>inflation</td>\n",
       "      <td>130</td>\n",
       "    </tr>\n",
       "    <tr>\n",
       "      <th>docs40</th>\n",
       "      <td>8268.0</td>\n",
       "      <td>14.0</td>\n",
       "      <td>47.0</td>\n",
       "      <td>inflation</td>\n",
       "      <td>101</td>\n",
       "    </tr>\n",
       "    <tr>\n",
       "      <th>docs41</th>\n",
       "      <td>7781.0</td>\n",
       "      <td>13.0</td>\n",
       "      <td>41.0</td>\n",
       "      <td>inflation</td>\n",
       "      <td>98</td>\n",
       "    </tr>\n",
       "    <tr>\n",
       "      <th>docs42</th>\n",
       "      <td>7341.0</td>\n",
       "      <td>12.0</td>\n",
       "      <td>52.0</td>\n",
       "      <td>inflation</td>\n",
       "      <td>90</td>\n",
       "    </tr>\n",
       "    <tr>\n",
       "      <th>docs43</th>\n",
       "      <td>7836.0</td>\n",
       "      <td>13.0</td>\n",
       "      <td>42.0</td>\n",
       "      <td>inflation</td>\n",
       "      <td>90</td>\n",
       "    </tr>\n",
       "    <tr>\n",
       "      <th>docs44</th>\n",
       "      <td>6878.0</td>\n",
       "      <td>12.0</td>\n",
       "      <td>40.0</td>\n",
       "      <td>inflation</td>\n",
       "      <td>98</td>\n",
       "    </tr>\n",
       "    <tr>\n",
       "      <th>docs45</th>\n",
       "      <td>6970.0</td>\n",
       "      <td>12.0</td>\n",
       "      <td>42.0</td>\n",
       "      <td>inflation</td>\n",
       "      <td>98</td>\n",
       "    </tr>\n",
       "    <tr>\n",
       "      <th>docs46</th>\n",
       "      <td>7167.0</td>\n",
       "      <td>12.0</td>\n",
       "      <td>55.0</td>\n",
       "      <td>inflation</td>\n",
       "      <td>116</td>\n",
       "    </tr>\n",
       "    <tr>\n",
       "      <th>consolidated</th>\n",
       "      <td>396436.0</td>\n",
       "      <td>621.0</td>\n",
       "      <td>1564.0</td>\n",
       "      <td>inflation</td>\n",
       "      <td>4329</td>\n",
       "    </tr>\n",
       "  </tbody>\n",
       "</table>\n",
       "</div>"
      ],
      "text/plain": [
       "             no.of words no.of pages no.of persons most_frequent_word  \\\n",
       "docs1             3861.0         7.0          20.0          inflation   \n",
       "docs2             5568.0        10.0          19.0          inflation   \n",
       "docs3             6018.0        10.0          19.0          inflation   \n",
       "docs4             7144.0        12.0          22.0          inflation   \n",
       "docs5             8706.0        14.0          22.0          inflation   \n",
       "docs6             8132.0        13.0          28.0          inflation   \n",
       "docs7             7479.0        11.0          26.0          inflation   \n",
       "docs8             6975.0        10.0          27.0          inflation   \n",
       "docs9             8452.0        14.0          28.0          inflation   \n",
       "docs10            7711.0        11.0          26.0          inflation   \n",
       "docs11            8276.0        12.0          31.0          inflation   \n",
       "docs12            8553.0        13.0          33.0          inflation   \n",
       "docs13            8790.0        14.0          20.0          inflation   \n",
       "docs14           10319.0        16.0          28.0          inflation   \n",
       "docs15           10346.0        16.0          31.0          inflation   \n",
       "docs16           11422.0        17.0          40.0          inflation   \n",
       "docs17            9346.0        14.0          27.0          inflation   \n",
       "docs18           10208.0        14.0          29.0          inflation   \n",
       "docs19           10673.0        15.0          29.0             growth   \n",
       "docs20           11469.0        18.0          26.0          inflation   \n",
       "docs21            8826.0        14.0          31.0             policy   \n",
       "docs22            9895.0        15.0          30.0          inflation   \n",
       "docs23           11297.0        15.0          34.0          inflation   \n",
       "docs24            9263.0        15.0          44.0          inflation   \n",
       "docs25           10533.0        16.0          31.0          inflation   \n",
       "docs26            8800.0        14.0          33.0          inflation   \n",
       "docs27            8606.0        13.0          33.0            percent   \n",
       "docs28            8239.0        13.0          31.0          inflation   \n",
       "docs29           10213.0        16.0          43.0          inflation   \n",
       "docs30           10046.0        15.0          37.0          inflation   \n",
       "docs31            9564.0        14.0          44.0          inflation   \n",
       "docs32            9684.0        15.0          38.0          inflation   \n",
       "docs33            9253.0        15.0          33.0          inflation   \n",
       "docs34            6739.0        11.0          33.0          inflation   \n",
       "docs35            8729.0        14.0          37.0          inflation   \n",
       "docs36            9370.0        14.0          46.0          inflation   \n",
       "docs37            9104.0        15.0          43.0          inflation   \n",
       "docs38            8436.0        14.0          50.0          inflation   \n",
       "docs39            8150.0        14.0          43.0          inflation   \n",
       "docs40            8268.0        14.0          47.0          inflation   \n",
       "docs41            7781.0        13.0          41.0          inflation   \n",
       "docs42            7341.0        12.0          52.0          inflation   \n",
       "docs43            7836.0        13.0          42.0          inflation   \n",
       "docs44            6878.0        12.0          40.0          inflation   \n",
       "docs45            6970.0        12.0          42.0          inflation   \n",
       "docs46            7167.0        12.0          55.0          inflation   \n",
       "consolidated    396436.0       621.0        1564.0          inflation   \n",
       "\n",
       "             no.of occurances  \n",
       "docs1                      47  \n",
       "docs2                      48  \n",
       "docs3                      63  \n",
       "docs4                      83  \n",
       "docs5                      78  \n",
       "docs6                      82  \n",
       "docs7                      70  \n",
       "docs8                      88  \n",
       "docs9                     105  \n",
       "docs10                     96  \n",
       "docs11                    117  \n",
       "docs12                    108  \n",
       "docs13                    107  \n",
       "docs14                    122  \n",
       "docs15                    115  \n",
       "docs16                    113  \n",
       "docs17                     87  \n",
       "docs18                     81  \n",
       "docs19                     92  \n",
       "docs20                    119  \n",
       "docs21                     59  \n",
       "docs22                     69  \n",
       "docs23                    123  \n",
       "docs24                     96  \n",
       "docs25                     99  \n",
       "docs26                     82  \n",
       "docs27                     71  \n",
       "docs28                     70  \n",
       "docs29                    120  \n",
       "docs30                     94  \n",
       "docs31                     89  \n",
       "docs32                    100  \n",
       "docs33                     99  \n",
       "docs34                     87  \n",
       "docs35                    130  \n",
       "docs36                    120  \n",
       "docs37                    102  \n",
       "docs38                    110  \n",
       "docs39                    130  \n",
       "docs40                    101  \n",
       "docs41                     98  \n",
       "docs42                     90  \n",
       "docs43                     90  \n",
       "docs44                     98  \n",
       "docs45                     98  \n",
       "docs46                    116  \n",
       "consolidated             4329  "
      ]
     },
     "execution_count": 56,
     "metadata": {},
     "output_type": "execute_result"
    }
   ],
   "source": [
    "df.T"
   ]
  },
  {
   "cell_type": "markdown",
   "id": "8f3b30c9",
   "metadata": {},
   "source": [
    "<h1 style=\"font-family:tahoma; color:darkblue; font-size: 35px;\" >•\t<u>TOP 10 KEY WORDS</u> <u></u> <u></u> <u></u></h1>"
   ]
  },
  {
   "cell_type": "code",
   "execution_count": 65,
   "id": "9c1f9641",
   "metadata": {
    "collapsed": true
   },
   "outputs": [
    {
     "data": {
      "text/plain": [
       "[('inflation', 4329),\n",
       " ('percent', 2740),\n",
       " ('growth', 2672),\n",
       " ('policy', 2100),\n",
       " ('rate', 1749),\n",
       " ('prices', 1528),\n",
       " ('year', 1125),\n",
       " ('demand', 1090),\n",
       " ('food', 1051),\n",
       " ('MPC', 1017),\n",
       " ('Dr.', 943),\n",
       " ('monetary', 931),\n",
       " ('global', 774),\n",
       " ('meeting', 751),\n",
       " ('economy', 740)]"
      ]
     },
     "execution_count": 65,
     "metadata": {},
     "output_type": "execute_result"
    }
   ],
   "source": [
    "sorted(count_of_words.items(),key = lambda x : x[1],reverse=True)[0:15]"
   ]
  },
  {
   "cell_type": "code",
   "execution_count": null,
   "id": "552e3c61",
   "metadata": {},
   "outputs": [],
   "source": []
  },
  {
   "cell_type": "code",
   "execution_count": null,
   "id": "93b39363",
   "metadata": {},
   "outputs": [],
   "source": []
  },
  {
   "cell_type": "code",
   "execution_count": null,
   "id": "fd8929dc",
   "metadata": {},
   "outputs": [],
   "source": []
  },
  {
   "cell_type": "code",
   "execution_count": 92,
   "id": "e50826e7",
   "metadata": {},
   "outputs": [],
   "source": []
  },
  {
   "cell_type": "code",
   "execution_count": null,
   "id": "0e2b181e",
   "metadata": {},
   "outputs": [],
   "source": []
  },
  {
   "cell_type": "code",
   "execution_count": null,
   "id": "a7b2916e",
   "metadata": {},
   "outputs": [],
   "source": []
  },
  {
   "cell_type": "code",
   "execution_count": null,
   "id": "5712e7cb",
   "metadata": {},
   "outputs": [],
   "source": []
  },
  {
   "cell_type": "code",
   "execution_count": null,
   "id": "050a6542",
   "metadata": {},
   "outputs": [],
   "source": []
  },
  {
   "cell_type": "code",
   "execution_count": null,
   "id": "a5b4ee1e",
   "metadata": {},
   "outputs": [],
   "source": []
  },
  {
   "cell_type": "code",
   "execution_count": null,
   "id": "c12b8b92",
   "metadata": {},
   "outputs": [],
   "source": []
  },
  {
   "cell_type": "code",
   "execution_count": null,
   "id": "31aeb6e7",
   "metadata": {},
   "outputs": [],
   "source": []
  },
  {
   "cell_type": "code",
   "execution_count": null,
   "id": "b78ef876",
   "metadata": {},
   "outputs": [],
   "source": []
  },
  {
   "cell_type": "code",
   "execution_count": null,
   "id": "9488d76f",
   "metadata": {},
   "outputs": [],
   "source": []
  },
  {
   "cell_type": "code",
   "execution_count": null,
   "id": "7ac90aee",
   "metadata": {},
   "outputs": [],
   "source": []
  },
  {
   "cell_type": "code",
   "execution_count": null,
   "id": "b1a4c914",
   "metadata": {},
   "outputs": [],
   "source": []
  },
  {
   "cell_type": "code",
   "execution_count": null,
   "id": "1b8f9047",
   "metadata": {},
   "outputs": [],
   "source": []
  }
 ],
 "metadata": {
  "kernelspec": {
   "display_name": "Python 3 (ipykernel)",
   "language": "python",
   "name": "python3"
  },
  "language_info": {
   "codemirror_mode": {
    "name": "ipython",
    "version": 3
   },
   "file_extension": ".py",
   "mimetype": "text/x-python",
   "name": "python",
   "nbconvert_exporter": "python",
   "pygments_lexer": "ipython3",
   "version": "3.11.4"
  }
 },
 "nbformat": 4,
 "nbformat_minor": 5
}
